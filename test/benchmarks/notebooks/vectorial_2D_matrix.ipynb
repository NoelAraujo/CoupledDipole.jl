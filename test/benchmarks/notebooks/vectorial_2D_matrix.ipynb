{
 "cells": [
  {
   "cell_type": "code",
   "execution_count": 1,
   "metadata": {},
   "outputs": [],
   "source": [
    "%display latex"
   ]
  },
  {
   "cell_type": "markdown",
   "metadata": {},
   "source": [
    "# Equation\n",
    "\n",
    "$$ K^{2D}_{\\alpha \\beta} = \\delta_{jk}\\delta_{\\alpha \\beta}+ (1 - \\delta_{jk})[ \\delta_{\\alpha \\beta}H_0(k_0 r_{jk}) + (1-\\delta_{\\alpha \\beta})e^{2\\alpha i \\phi_{jk}} H_2(k_0r_{jk})  ] $$\n",
    "\n",
    "$\\mathbf{r}_{jk} = \\mathbf{r}_j - \\mathbf{r}_k$  \n",
    "\n",
    "$r_{jk} = |\\mathbf{r}_{jk}|$  \n",
    "\n",
    "$ \\hat{r}_{jk} = \\frac{\\mathbf{r}_{jk}}{r_{jk}} = (cos\\phi_{jk}, sin \\phi_{jk}) $\n",
    "\n",
    "$\\phi_{jk} = atan(\\frac{y}{x})$"
   ]
  },
  {
   "cell_type": "markdown",
   "metadata": {},
   "source": [
    "# Analytical"
   ]
  },
  {
   "cell_type": "code",
   "execution_count": 2,
   "metadata": {},
   "outputs": [
    {
     "data": {
      "text/html": [
       "<html><script type=\"math/tex; mode=display\">\\newcommand{\\Bold}[1]{\\mathbf{#1}}\\left(\\begin{array}{rr}\n",
       "r_{11} & r_{12} \\\\\n",
       "r_{21} & r_{22}\n",
       "\\end{array}\\right)</script></html>"
      ],
      "text/latex": [
       "$$\\newcommand{\\Bold}[1]{\\mathbf{#1}}\\left(\\begin{array}{rr}\n",
       "r_{11} & r_{12} \\\\\n",
       "r_{21} & r_{22}\n",
       "\\end{array}\\right)$$"
      ],
      "text/plain": [
       "[r_11 r_12]\n",
       "[r_21 r_22]"
      ]
     },
     "execution_count": 2,
     "metadata": {},
     "output_type": "execute_result"
    }
   ],
   "source": [
    "N = 2\n",
    "r_jk = matrix(SR, 2, var('r_11,r_12,r_21,r_22'))#\n",
    "r_jk"
   ]
  },
  {
   "cell_type": "code",
   "execution_count": 3,
   "metadata": {},
   "outputs": [
    {
     "data": {
      "text/html": [
       "<html><script type=\"math/tex; mode=display\">\\newcommand{\\Bold}[1]{\\mathbf{#1}}\\left(\\begin{array}{rr}\n",
       "H_{0}^{(1)}\\left(r_{11}\\right) & H_{0}^{(1)}\\left(r_{12}\\right) \\\\\n",
       "H_{0}^{(1)}\\left(r_{21}\\right) & H_{0}^{(1)}\\left(r_{22}\\right)\n",
       "\\end{array}\\right)</script></html>"
      ],
      "text/latex": [
       "$$\\newcommand{\\Bold}[1]{\\mathbf{#1}}\\left(\\begin{array}{rr}\n",
       "H_{0}^{(1)}\\left(r_{11}\\right) & H_{0}^{(1)}\\left(r_{12}\\right) \\\\\n",
       "H_{0}^{(1)}\\left(r_{21}\\right) & H_{0}^{(1)}\\left(r_{22}\\right)\n",
       "\\end{array}\\right)$$"
      ],
      "text/plain": [
       "[hankel1(0, r_11) hankel1(0, r_12)]\n",
       "[hankel1(0, r_21) hankel1(0, r_22)]"
      ]
     },
     "metadata": {},
     "output_type": "display_data"
    },
    {
     "name": "stdout",
     "output_type": "stream",
     "text": [
      "\n"
     ]
    },
    {
     "data": {
      "text/html": [
       "<html><script type=\"math/tex; mode=display\">\\newcommand{\\Bold}[1]{\\mathbf{#1}}\\left(\\begin{array}{rr}\n",
       "H_{2}^{(1)}\\left(r_{11}\\right) & H_{2}^{(1)}\\left(r_{12}\\right) \\\\\n",
       "H_{2}^{(1)}\\left(r_{21}\\right) & H_{2}^{(1)}\\left(r_{22}\\right)\n",
       "\\end{array}\\right)</script></html>"
      ],
      "text/latex": [
       "$$\\newcommand{\\Bold}[1]{\\mathbf{#1}}\\left(\\begin{array}{rr}\n",
       "H_{2}^{(1)}\\left(r_{11}\\right) & H_{2}^{(1)}\\left(r_{12}\\right) \\\\\n",
       "H_{2}^{(1)}\\left(r_{21}\\right) & H_{2}^{(1)}\\left(r_{22}\\right)\n",
       "\\end{array}\\right)$$"
      ],
      "text/plain": [
       "[hankel1(2, r_11) hankel1(2, r_12)]\n",
       "[hankel1(2, r_21) hankel1(2, r_22)]"
      ]
     },
     "metadata": {},
     "output_type": "display_data"
    }
   ],
   "source": [
    "H0 = matrix(SR, N)\n",
    "H2 = matrix(SR, N)\n",
    "for j in range(N):\n",
    "    for k in range(N):\n",
    "        H0[j,k] = hankel1(0, r_jk[j,k]) \n",
    "        H2[j,k] = hankel1(2, r_jk[j,k]) \n",
    "display(H0)\n",
    "print()\n",
    "display(H2)"
   ]
  },
  {
   "cell_type": "code",
   "execution_count": 4,
   "metadata": {},
   "outputs": [
    {
     "data": {
      "text/html": [
       "<html><script type=\"math/tex; mode=display\">\\newcommand{\\Bold}[1]{\\mathbf{#1}}\\left(\\begin{array}{rr}\n",
       "\\phi_{11} & \\phi_{12} \\\\\n",
       "\\phi_{21} & \\phi_{22}\n",
       "\\end{array}\\right)</script></html>"
      ],
      "text/latex": [
       "$$\\newcommand{\\Bold}[1]{\\mathbf{#1}}\\left(\\begin{array}{rr}\n",
       "\\phi_{11} & \\phi_{12} \\\\\n",
       "\\phi_{21} & \\phi_{22}\n",
       "\\end{array}\\right)$$"
      ],
      "text/plain": [
       "[phi_11 phi_12]\n",
       "[phi_21 phi_22]"
      ]
     },
     "execution_count": 4,
     "metadata": {},
     "output_type": "execute_result"
    }
   ],
   "source": [
    "ϕ = matrix(SR, 2, var('phi_11,phi_12,phi_21,phi_22'))\n",
    "ϕ"
   ]
  },
  {
   "cell_type": "markdown",
   "metadata": {},
   "source": [
    "## Creating each element following above definition"
   ]
  },
  {
   "cell_type": "code",
   "execution_count": 5,
   "metadata": {},
   "outputs": [
    {
     "name": "stdout",
     "output_type": "stream",
     "text": [
      "----> α: -1  ... β: -1  ... j: 0  ... k: 0  ... \n"
     ]
    },
    {
     "data": {
      "text/html": [
       "<html><script type=\"math/tex; mode=display\">\\newcommand{\\Bold}[1]{\\mathbf{#1}}1</script></html>"
      ],
      "text/latex": [
       "$$\\newcommand{\\Bold}[1]{\\mathbf{#1}}1$$"
      ],
      "text/plain": [
       "1"
      ]
     },
     "metadata": {},
     "output_type": "display_data"
    },
    {
     "name": "stdout",
     "output_type": "stream",
     "text": [
      "----> α: -1  ... β: -1  ... j: 0  ... k: 1  ... \n"
     ]
    },
    {
     "data": {
      "text/html": [
       "<html><script type=\"math/tex; mode=display\">\\newcommand{\\Bold}[1]{\\mathbf{#1}}H_{0}^{(1)}\\left(r_{12}\\right)</script></html>"
      ],
      "text/latex": [
       "$$\\newcommand{\\Bold}[1]{\\mathbf{#1}}H_{0}^{(1)}\\left(r_{12}\\right)$$"
      ],
      "text/plain": [
       "hankel1(0, r_12)"
      ]
     },
     "metadata": {},
     "output_type": "display_data"
    },
    {
     "name": "stdout",
     "output_type": "stream",
     "text": [
      "----> α: -1  ... β: -1  ... j: 1  ... k: 0  ... \n"
     ]
    },
    {
     "data": {
      "text/html": [
       "<html><script type=\"math/tex; mode=display\">\\newcommand{\\Bold}[1]{\\mathbf{#1}}H_{0}^{(1)}\\left(r_{21}\\right)</script></html>"
      ],
      "text/latex": [
       "$$\\newcommand{\\Bold}[1]{\\mathbf{#1}}H_{0}^{(1)}\\left(r_{21}\\right)$$"
      ],
      "text/plain": [
       "hankel1(0, r_21)"
      ]
     },
     "metadata": {},
     "output_type": "display_data"
    },
    {
     "name": "stdout",
     "output_type": "stream",
     "text": [
      "----> α: -1  ... β: -1  ... j: 1  ... k: 1  ... \n"
     ]
    },
    {
     "data": {
      "text/html": [
       "<html><script type=\"math/tex; mode=display\">\\newcommand{\\Bold}[1]{\\mathbf{#1}}1</script></html>"
      ],
      "text/latex": [
       "$$\\newcommand{\\Bold}[1]{\\mathbf{#1}}1$$"
      ],
      "text/plain": [
       "1"
      ]
     },
     "metadata": {},
     "output_type": "display_data"
    },
    {
     "name": "stdout",
     "output_type": "stream",
     "text": [
      "\n",
      "----> α: -1  ... β: 1  ... j: 0  ... k: 0  ... \n"
     ]
    },
    {
     "data": {
      "text/html": [
       "<html><script type=\"math/tex; mode=display\">\\newcommand{\\Bold}[1]{\\mathbf{#1}}0</script></html>"
      ],
      "text/latex": [
       "$$\\newcommand{\\Bold}[1]{\\mathbf{#1}}0$$"
      ],
      "text/plain": [
       "0"
      ]
     },
     "metadata": {},
     "output_type": "display_data"
    },
    {
     "name": "stdout",
     "output_type": "stream",
     "text": [
      "----> α: -1  ... β: 1  ... j: 0  ... k: 1  ... \n"
     ]
    },
    {
     "data": {
      "text/html": [
       "<html><script type=\"math/tex; mode=display\">\\newcommand{\\Bold}[1]{\\mathbf{#1}}e^{\\left(-2 i \\, \\phi_{12}\\right)} H_{2}^{(1)}\\left(r_{12}\\right)</script></html>"
      ],
      "text/latex": [
       "$$\\newcommand{\\Bold}[1]{\\mathbf{#1}}e^{\\left(-2 i \\, \\phi_{12}\\right)} H_{2}^{(1)}\\left(r_{12}\\right)$$"
      ],
      "text/plain": [
       "e^(-2*I*phi_12)*hankel1(2, r_12)"
      ]
     },
     "metadata": {},
     "output_type": "display_data"
    },
    {
     "name": "stdout",
     "output_type": "stream",
     "text": [
      "----> α: -1  ... β: 1  ... j: 1  ... k: 0  ... \n"
     ]
    },
    {
     "data": {
      "text/html": [
       "<html><script type=\"math/tex; mode=display\">\\newcommand{\\Bold}[1]{\\mathbf{#1}}e^{\\left(-2 i \\, \\phi_{21}\\right)} H_{2}^{(1)}\\left(r_{21}\\right)</script></html>"
      ],
      "text/latex": [
       "$$\\newcommand{\\Bold}[1]{\\mathbf{#1}}e^{\\left(-2 i \\, \\phi_{21}\\right)} H_{2}^{(1)}\\left(r_{21}\\right)$$"
      ],
      "text/plain": [
       "e^(-2*I*phi_21)*hankel1(2, r_21)"
      ]
     },
     "metadata": {},
     "output_type": "display_data"
    },
    {
     "name": "stdout",
     "output_type": "stream",
     "text": [
      "----> α: -1  ... β: 1  ... j: 1  ... k: 1  ... \n"
     ]
    },
    {
     "data": {
      "text/html": [
       "<html><script type=\"math/tex; mode=display\">\\newcommand{\\Bold}[1]{\\mathbf{#1}}0</script></html>"
      ],
      "text/latex": [
       "$$\\newcommand{\\Bold}[1]{\\mathbf{#1}}0$$"
      ],
      "text/plain": [
       "0"
      ]
     },
     "metadata": {},
     "output_type": "display_data"
    },
    {
     "name": "stdout",
     "output_type": "stream",
     "text": [
      "\n",
      "----> α: 1  ... β: -1  ... j: 0  ... k: 0  ... \n"
     ]
    },
    {
     "data": {
      "text/html": [
       "<html><script type=\"math/tex; mode=display\">\\newcommand{\\Bold}[1]{\\mathbf{#1}}0</script></html>"
      ],
      "text/latex": [
       "$$\\newcommand{\\Bold}[1]{\\mathbf{#1}}0$$"
      ],
      "text/plain": [
       "0"
      ]
     },
     "metadata": {},
     "output_type": "display_data"
    },
    {
     "name": "stdout",
     "output_type": "stream",
     "text": [
      "----> α: 1  ... β: -1  ... j: 0  ... k: 1  ... \n"
     ]
    },
    {
     "data": {
      "text/html": [
       "<html><script type=\"math/tex; mode=display\">\\newcommand{\\Bold}[1]{\\mathbf{#1}}e^{\\left(2 i \\, \\phi_{12}\\right)} H_{2}^{(1)}\\left(r_{12}\\right)</script></html>"
      ],
      "text/latex": [
       "$$\\newcommand{\\Bold}[1]{\\mathbf{#1}}e^{\\left(2 i \\, \\phi_{12}\\right)} H_{2}^{(1)}\\left(r_{12}\\right)$$"
      ],
      "text/plain": [
       "e^(2*I*phi_12)*hankel1(2, r_12)"
      ]
     },
     "metadata": {},
     "output_type": "display_data"
    },
    {
     "name": "stdout",
     "output_type": "stream",
     "text": [
      "----> α: 1  ... β: -1  ... j: 1  ... k: 0  ... \n"
     ]
    },
    {
     "data": {
      "text/html": [
       "<html><script type=\"math/tex; mode=display\">\\newcommand{\\Bold}[1]{\\mathbf{#1}}e^{\\left(2 i \\, \\phi_{21}\\right)} H_{2}^{(1)}\\left(r_{21}\\right)</script></html>"
      ],
      "text/latex": [
       "$$\\newcommand{\\Bold}[1]{\\mathbf{#1}}e^{\\left(2 i \\, \\phi_{21}\\right)} H_{2}^{(1)}\\left(r_{21}\\right)$$"
      ],
      "text/plain": [
       "e^(2*I*phi_21)*hankel1(2, r_21)"
      ]
     },
     "metadata": {},
     "output_type": "display_data"
    },
    {
     "name": "stdout",
     "output_type": "stream",
     "text": [
      "----> α: 1  ... β: -1  ... j: 1  ... k: 1  ... \n"
     ]
    },
    {
     "data": {
      "text/html": [
       "<html><script type=\"math/tex; mode=display\">\\newcommand{\\Bold}[1]{\\mathbf{#1}}0</script></html>"
      ],
      "text/latex": [
       "$$\\newcommand{\\Bold}[1]{\\mathbf{#1}}0$$"
      ],
      "text/plain": [
       "0"
      ]
     },
     "metadata": {},
     "output_type": "display_data"
    },
    {
     "name": "stdout",
     "output_type": "stream",
     "text": [
      "\n",
      "----> α: 1  ... β: 1  ... j: 0  ... k: 0  ... \n"
     ]
    },
    {
     "data": {
      "text/html": [
       "<html><script type=\"math/tex; mode=display\">\\newcommand{\\Bold}[1]{\\mathbf{#1}}1</script></html>"
      ],
      "text/latex": [
       "$$\\newcommand{\\Bold}[1]{\\mathbf{#1}}1$$"
      ],
      "text/plain": [
       "1"
      ]
     },
     "metadata": {},
     "output_type": "display_data"
    },
    {
     "name": "stdout",
     "output_type": "stream",
     "text": [
      "----> α: 1  ... β: 1  ... j: 0  ... k: 1  ... \n"
     ]
    },
    {
     "data": {
      "text/html": [
       "<html><script type=\"math/tex; mode=display\">\\newcommand{\\Bold}[1]{\\mathbf{#1}}H_{0}^{(1)}\\left(r_{12}\\right)</script></html>"
      ],
      "text/latex": [
       "$$\\newcommand{\\Bold}[1]{\\mathbf{#1}}H_{0}^{(1)}\\left(r_{12}\\right)$$"
      ],
      "text/plain": [
       "hankel1(0, r_12)"
      ]
     },
     "metadata": {},
     "output_type": "display_data"
    },
    {
     "name": "stdout",
     "output_type": "stream",
     "text": [
      "----> α: 1  ... β: 1  ... j: 1  ... k: 0  ... \n"
     ]
    },
    {
     "data": {
      "text/html": [
       "<html><script type=\"math/tex; mode=display\">\\newcommand{\\Bold}[1]{\\mathbf{#1}}H_{0}^{(1)}\\left(r_{21}\\right)</script></html>"
      ],
      "text/latex": [
       "$$\\newcommand{\\Bold}[1]{\\mathbf{#1}}H_{0}^{(1)}\\left(r_{21}\\right)$$"
      ],
      "text/plain": [
       "hankel1(0, r_21)"
      ]
     },
     "metadata": {},
     "output_type": "display_data"
    },
    {
     "name": "stdout",
     "output_type": "stream",
     "text": [
      "----> α: 1  ... β: 1  ... j: 1  ... k: 1  ... \n"
     ]
    },
    {
     "data": {
      "text/html": [
       "<html><script type=\"math/tex; mode=display\">\\newcommand{\\Bold}[1]{\\mathbf{#1}}1</script></html>"
      ],
      "text/latex": [
       "$$\\newcommand{\\Bold}[1]{\\mathbf{#1}}1$$"
      ],
      "text/plain": [
       "1"
      ]
     },
     "metadata": {},
     "output_type": "display_data"
    },
    {
     "name": "stdout",
     "output_type": "stream",
     "text": [
      "\n"
     ]
    }
   ],
   "source": [
    "α_range = β_range = [-1,+1]\n",
    "for α in α_range:\n",
    "    for β in β_range:\n",
    "        for j in range(N):\n",
    "            for k in range(N):\n",
    "                term1 = kronecker_delta(j,k)*kronecker_delta(α,β)\n",
    "                term2 = 1 - kronecker_delta(j,k)\n",
    "                term3 = kronecker_delta(α,β)*H0[j,k]\n",
    "                term4 = 1-kronecker_delta(α,β)\n",
    "                term5 = exp(2*α*I*ϕ[j,k])*H2[j,k]\n",
    "                K = term1 + term2*( term3 + term4*term5  )\n",
    "                print('----> α:', α, ' ... β:', β, ' ... j:', j, ' ... k:', k, ' ... ')\n",
    "                display(K)\n",
    "        print( )"
   ]
  },
  {
   "cell_type": "markdown",
   "metadata": {},
   "source": [
    "## Creating smaller matrices\n",
    "\n",
    "Compute all terms related at once, that is, each $\\delta_{jk}$, which corresponds to a $N\\times N$ matrix."
   ]
  },
  {
   "cell_type": "code",
   "execution_count": 6,
   "metadata": {},
   "outputs": [
    {
     "name": "stdout",
     "output_type": "stream",
     "text": [
      "----> α: -1 β: -1\n"
     ]
    },
    {
     "data": {
      "text/html": [
       "<html><script type=\"math/tex; mode=display\">\\newcommand{\\Bold}[1]{\\mathbf{#1}}\\left(\\begin{array}{rr}\n",
       "1 & H_{0}^{(1)}\\left(r_{12}\\right) \\\\\n",
       "H_{0}^{(1)}\\left(r_{21}\\right) & 1\n",
       "\\end{array}\\right)</script></html>"
      ],
      "text/latex": [
       "$$\\newcommand{\\Bold}[1]{\\mathbf{#1}}\\left(\\begin{array}{rr}\n",
       "1 & H_{0}^{(1)}\\left(r_{12}\\right) \\\\\n",
       "H_{0}^{(1)}\\left(r_{21}\\right) & 1\n",
       "\\end{array}\\right)$$"
      ],
      "text/plain": [
       "[               1 hankel1(0, r_12)]\n",
       "[hankel1(0, r_21)                1]"
      ]
     },
     "metadata": {},
     "output_type": "display_data"
    },
    {
     "name": "stdout",
     "output_type": "stream",
     "text": [
      "\n",
      "----> α: -1 β: 1\n"
     ]
    },
    {
     "data": {
      "text/html": [
       "<html><script type=\"math/tex; mode=display\">\\newcommand{\\Bold}[1]{\\mathbf{#1}}\\left(\\begin{array}{rr}\n",
       "0 & e^{\\left(-2 i \\, \\phi_{12}\\right)} H_{2}^{(1)}\\left(r_{12}\\right) \\\\\n",
       "e^{\\left(-2 i \\, \\phi_{21}\\right)} H_{2}^{(1)}\\left(r_{21}\\right) & 0\n",
       "\\end{array}\\right)</script></html>"
      ],
      "text/latex": [
       "$$\\newcommand{\\Bold}[1]{\\mathbf{#1}}\\left(\\begin{array}{rr}\n",
       "0 & e^{\\left(-2 i \\, \\phi_{12}\\right)} H_{2}^{(1)}\\left(r_{12}\\right) \\\\\n",
       "e^{\\left(-2 i \\, \\phi_{21}\\right)} H_{2}^{(1)}\\left(r_{21}\\right) & 0\n",
       "\\end{array}\\right)$$"
      ],
      "text/plain": [
       "[                               0 e^(-2*I*phi_12)*hankel1(2, r_12)]\n",
       "[e^(-2*I*phi_21)*hankel1(2, r_21)                                0]"
      ]
     },
     "metadata": {},
     "output_type": "display_data"
    },
    {
     "name": "stdout",
     "output_type": "stream",
     "text": [
      "\n",
      "----> α: 1 β: -1\n"
     ]
    },
    {
     "data": {
      "text/html": [
       "<html><script type=\"math/tex; mode=display\">\\newcommand{\\Bold}[1]{\\mathbf{#1}}\\left(\\begin{array}{rr}\n",
       "0 & e^{\\left(2 i \\, \\phi_{12}\\right)} H_{2}^{(1)}\\left(r_{12}\\right) \\\\\n",
       "e^{\\left(2 i \\, \\phi_{21}\\right)} H_{2}^{(1)}\\left(r_{21}\\right) & 0\n",
       "\\end{array}\\right)</script></html>"
      ],
      "text/latex": [
       "$$\\newcommand{\\Bold}[1]{\\mathbf{#1}}\\left(\\begin{array}{rr}\n",
       "0 & e^{\\left(2 i \\, \\phi_{12}\\right)} H_{2}^{(1)}\\left(r_{12}\\right) \\\\\n",
       "e^{\\left(2 i \\, \\phi_{21}\\right)} H_{2}^{(1)}\\left(r_{21}\\right) & 0\n",
       "\\end{array}\\right)$$"
      ],
      "text/plain": [
       "[                              0 e^(2*I*phi_12)*hankel1(2, r_12)]\n",
       "[e^(2*I*phi_21)*hankel1(2, r_21)                               0]"
      ]
     },
     "metadata": {},
     "output_type": "display_data"
    },
    {
     "name": "stdout",
     "output_type": "stream",
     "text": [
      "\n",
      "----> α: 1 β: 1\n"
     ]
    },
    {
     "data": {
      "text/html": [
       "<html><script type=\"math/tex; mode=display\">\\newcommand{\\Bold}[1]{\\mathbf{#1}}\\left(\\begin{array}{rr}\n",
       "1 & H_{0}^{(1)}\\left(r_{12}\\right) \\\\\n",
       "H_{0}^{(1)}\\left(r_{21}\\right) & 1\n",
       "\\end{array}\\right)</script></html>"
      ],
      "text/latex": [
       "$$\\newcommand{\\Bold}[1]{\\mathbf{#1}}\\left(\\begin{array}{rr}\n",
       "1 & H_{0}^{(1)}\\left(r_{12}\\right) \\\\\n",
       "H_{0}^{(1)}\\left(r_{21}\\right) & 1\n",
       "\\end{array}\\right)$$"
      ],
      "text/plain": [
       "[               1 hankel1(0, r_12)]\n",
       "[hankel1(0, r_21)                1]"
      ]
     },
     "metadata": {},
     "output_type": "display_data"
    },
    {
     "name": "stdout",
     "output_type": "stream",
     "text": [
      "\n"
     ]
    }
   ],
   "source": [
    "for (idx_α,α) in enumerate(α_range):\n",
    "    for (idx_β,β) in enumerate(β_range):\n",
    "        term1 = identity_matrix(N)*kronecker_delta(α,β)\n",
    "        term2 = ones_matrix(N) - identity_matrix(N) # == (1 - delta_{jk})\n",
    "        term3 = kronecker_delta(α,β)*H0\n",
    "        term4 = 1 - kronecker_delta(α,β)\n",
    "        term5 = ϕ.apply_map(exp(2*α*I*x)).elementwise_product(H2)\n",
    "        K = term1 + term2.elementwise_product( term3  + term4*term5  )\n",
    "        print( '----> α:', α, 'β:',β  )\n",
    "        display(K)\n",
    "        print()"
   ]
  },
  {
   "cell_type": "markdown",
   "metadata": {},
   "source": [
    "# Numerical"
   ]
  },
  {
   "cell_type": "code",
   "execution_count": 7,
   "metadata": {},
   "outputs": [
    {
     "data": {
      "text/html": [
       "<html><script type=\"math/tex; mode=display\">\\newcommand{\\Bold}[1]{\\mathbf{#1}}\\left(\\begin{array}{rr}\n",
       "1 & 2 \\\\\n",
       "3 & 5\n",
       "\\end{array}\\right)</script></html>"
      ],
      "text/latex": [
       "$$\\newcommand{\\Bold}[1]{\\mathbf{#1}}\\left(\\begin{array}{rr}\n",
       "1 & 2 \\\\\n",
       "3 & 5\n",
       "\\end{array}\\right)$$"
      ],
      "text/plain": [
       "[1 2]\n",
       "[3 5]"
      ]
     },
     "execution_count": 7,
     "metadata": {},
     "output_type": "execute_result"
    }
   ],
   "source": [
    "N = 2\n",
    "r = matrix([ [1,2],[3,5]  ] )\n",
    "r"
   ]
  },
  {
   "cell_type": "code",
   "execution_count": 8,
   "metadata": {},
   "outputs": [
    {
     "data": {
      "text/html": [
       "<html><script type=\"math/tex; mode=display\">\\newcommand{\\Bold}[1]{\\mathbf{#1}}\\left(\\begin{array}{rr}\n",
       "H_{0}^{(1)}\\left(0\\right) & H_{0}^{(1)}\\left(\\sqrt{13}\\right) \\\\\n",
       "H_{0}^{(1)}\\left(\\sqrt{13}\\right) & H_{0}^{(1)}\\left(0\\right)\n",
       "\\end{array}\\right)</script></html>"
      ],
      "text/latex": [
       "$$\\newcommand{\\Bold}[1]{\\mathbf{#1}}\\left(\\begin{array}{rr}\n",
       "H_{0}^{(1)}\\left(0\\right) & H_{0}^{(1)}\\left(\\sqrt{13}\\right) \\\\\n",
       "H_{0}^{(1)}\\left(\\sqrt{13}\\right) & H_{0}^{(1)}\\left(0\\right)\n",
       "\\end{array}\\right)$$"
      ],
      "text/plain": [
       "[       hankel1(0, 0) hankel1(0, sqrt(13))]\n",
       "[hankel1(0, sqrt(13))        hankel1(0, 0)]"
      ]
     },
     "metadata": {},
     "output_type": "display_data"
    },
    {
     "name": "stdout",
     "output_type": "stream",
     "text": [
      "\n"
     ]
    },
    {
     "data": {
      "text/html": [
       "<html><script type=\"math/tex; mode=display\">\\newcommand{\\Bold}[1]{\\mathbf{#1}}\\left(\\begin{array}{rr}\n",
       "H_{2}^{(1)}\\left(0\\right) & H_{2}^{(1)}\\left(\\sqrt{13}\\right) \\\\\n",
       "H_{2}^{(1)}\\left(\\sqrt{13}\\right) & H_{2}^{(1)}\\left(0\\right)\n",
       "\\end{array}\\right)</script></html>"
      ],
      "text/latex": [
       "$$\\newcommand{\\Bold}[1]{\\mathbf{#1}}\\left(\\begin{array}{rr}\n",
       "H_{2}^{(1)}\\left(0\\right) & H_{2}^{(1)}\\left(\\sqrt{13}\\right) \\\\\n",
       "H_{2}^{(1)}\\left(\\sqrt{13}\\right) & H_{2}^{(1)}\\left(0\\right)\n",
       "\\end{array}\\right)$$"
      ],
      "text/plain": [
       "[       hankel1(2, 0) hankel1(2, sqrt(13))]\n",
       "[hankel1(2, sqrt(13))        hankel1(2, 0)]"
      ]
     },
     "metadata": {},
     "output_type": "display_data"
    }
   ],
   "source": [
    "r_jk = matrix(SR, 2)\n",
    "ϕ = matrix(SR, 2)\n",
    "\n",
    "H0 = matrix(SR, N)\n",
    "H2 = matrix(SR, N)\n",
    "\n",
    "for j in range(N):\n",
    "    for k in range(N):\n",
    "        vec_r_jk = r[j] - r[k]\n",
    "        r_jk[j,k] = norm(vec_r_jk)\n",
    "        ϕ[j,k] = atan2( vec_r_jk[1], vec_r_jk[0] )\n",
    "        \n",
    "        H0[j,k] = hankel1(0, r_jk[j,k]) \n",
    "        H2[j,k] = hankel1(2, r_jk[j,k])\n",
    "        \n",
    "display(H0)\n",
    "print()\n",
    "display(H2)"
   ]
  },
  {
   "cell_type": "code",
   "execution_count": 9,
   "metadata": {},
   "outputs": [
    {
     "name": "stdout",
     "output_type": "stream",
     "text": [
      "----> α: -1 β: -1\n"
     ]
    },
    {
     "data": {
      "text/html": [
       "<html><script type=\"math/tex; mode=display\">\\newcommand{\\Bold}[1]{\\mathbf{#1}}\\left(\\begin{array}{rr}\n",
       "1 & H_{0}^{(1)}\\left(\\sqrt{13}\\right) \\\\\n",
       "H_{0}^{(1)}\\left(\\sqrt{13}\\right) & 1\n",
       "\\end{array}\\right)</script></html>"
      ],
      "text/latex": [
       "$$\\newcommand{\\Bold}[1]{\\mathbf{#1}}\\left(\\begin{array}{rr}\n",
       "1 & H_{0}^{(1)}\\left(\\sqrt{13}\\right) \\\\\n",
       "H_{0}^{(1)}\\left(\\sqrt{13}\\right) & 1\n",
       "\\end{array}\\right)$$"
      ],
      "text/plain": [
       "[                   1 hankel1(0, sqrt(13))]\n",
       "[hankel1(0, sqrt(13))                    1]"
      ]
     },
     "metadata": {},
     "output_type": "display_data"
    },
    {
     "name": "stdout",
     "output_type": "stream",
     "text": [
      "\n",
      "----> α: -1 β: 1\n"
     ]
    },
    {
     "data": {
      "text/html": [
       "<html><script type=\"math/tex; mode=display\">\\newcommand{\\Bold}[1]{\\mathbf{#1}}\\left(\\begin{array}{rr}\n",
       "0 & e^{\\left(-2 i \\, \\arctan\\left(\\frac{3}{2}\\right)\\right)} H_{2}^{(1)}\\left(\\sqrt{13}\\right) \\\\\n",
       "e^{\\left(-2 i \\, \\arctan\\left(\\frac{3}{2}\\right)\\right)} H_{2}^{(1)}\\left(\\sqrt{13}\\right) & 0\n",
       "\\end{array}\\right)</script></html>"
      ],
      "text/latex": [
       "$$\\newcommand{\\Bold}[1]{\\mathbf{#1}}\\left(\\begin{array}{rr}\n",
       "0 & e^{\\left(-2 i \\, \\arctan\\left(\\frac{3}{2}\\right)\\right)} H_{2}^{(1)}\\left(\\sqrt{13}\\right) \\\\\n",
       "e^{\\left(-2 i \\, \\arctan\\left(\\frac{3}{2}\\right)\\right)} H_{2}^{(1)}\\left(\\sqrt{13}\\right) & 0\n",
       "\\end{array}\\right)$$"
      ],
      "text/plain": [
       "[                                        0 e^(-2*I*arctan(3/2))*hankel1(2, sqrt(13))]\n",
       "[e^(-2*I*arctan(3/2))*hankel1(2, sqrt(13))                                         0]"
      ]
     },
     "metadata": {},
     "output_type": "display_data"
    },
    {
     "name": "stdout",
     "output_type": "stream",
     "text": [
      "\n",
      "----> α: 1 β: -1\n"
     ]
    },
    {
     "data": {
      "text/html": [
       "<html><script type=\"math/tex; mode=display\">\\newcommand{\\Bold}[1]{\\mathbf{#1}}\\left(\\begin{array}{rr}\n",
       "0 & e^{\\left(2 i \\, \\arctan\\left(\\frac{3}{2}\\right)\\right)} H_{2}^{(1)}\\left(\\sqrt{13}\\right) \\\\\n",
       "e^{\\left(2 i \\, \\arctan\\left(\\frac{3}{2}\\right)\\right)} H_{2}^{(1)}\\left(\\sqrt{13}\\right) & 0\n",
       "\\end{array}\\right)</script></html>"
      ],
      "text/latex": [
       "$$\\newcommand{\\Bold}[1]{\\mathbf{#1}}\\left(\\begin{array}{rr}\n",
       "0 & e^{\\left(2 i \\, \\arctan\\left(\\frac{3}{2}\\right)\\right)} H_{2}^{(1)}\\left(\\sqrt{13}\\right) \\\\\n",
       "e^{\\left(2 i \\, \\arctan\\left(\\frac{3}{2}\\right)\\right)} H_{2}^{(1)}\\left(\\sqrt{13}\\right) & 0\n",
       "\\end{array}\\right)$$"
      ],
      "text/plain": [
       "[                                       0 e^(2*I*arctan(3/2))*hankel1(2, sqrt(13))]\n",
       "[e^(2*I*arctan(3/2))*hankel1(2, sqrt(13))                                        0]"
      ]
     },
     "metadata": {},
     "output_type": "display_data"
    },
    {
     "name": "stdout",
     "output_type": "stream",
     "text": [
      "\n",
      "----> α: 1 β: 1\n"
     ]
    },
    {
     "data": {
      "text/html": [
       "<html><script type=\"math/tex; mode=display\">\\newcommand{\\Bold}[1]{\\mathbf{#1}}\\left(\\begin{array}{rr}\n",
       "1 & H_{0}^{(1)}\\left(\\sqrt{13}\\right) \\\\\n",
       "H_{0}^{(1)}\\left(\\sqrt{13}\\right) & 1\n",
       "\\end{array}\\right)</script></html>"
      ],
      "text/latex": [
       "$$\\newcommand{\\Bold}[1]{\\mathbf{#1}}\\left(\\begin{array}{rr}\n",
       "1 & H_{0}^{(1)}\\left(\\sqrt{13}\\right) \\\\\n",
       "H_{0}^{(1)}\\left(\\sqrt{13}\\right) & 1\n",
       "\\end{array}\\right)$$"
      ],
      "text/plain": [
       "[                   1 hankel1(0, sqrt(13))]\n",
       "[hankel1(0, sqrt(13))                    1]"
      ]
     },
     "metadata": {},
     "output_type": "display_data"
    },
    {
     "name": "stdout",
     "output_type": "stream",
     "text": [
      "\n"
     ]
    }
   ],
   "source": [
    "for (idx_α,α) in enumerate(α_range):\n",
    "    for (idx_β,β) in enumerate(β_range):\n",
    "        term1 = identity_matrix(2)*kronecker_delta(α,β)\n",
    "        term2 = ones_matrix(2) - identity_matrix(2)\n",
    "        term3 = kronecker_delta(α,β)*H0\n",
    "        term4 = 1 - kronecker_delta(α,β)\n",
    "        term5 = ϕ.apply_map(exp(2*α*I*x)).elementwise_product(H2)\n",
    "        K = term1 + term2.elementwise_product( term3  + term4*term5  )\n",
    "        print( '----> α:', α, 'β:',β  )\n",
    "        display( K )\n",
    "        print()\n",
    "         "
   ]
  },
  {
   "cell_type": "code",
   "execution_count": null,
   "metadata": {},
   "outputs": [],
   "source": []
  }
 ],
 "metadata": {
  "kernelspec": {
   "display_name": "SageMath 9.3",
   "language": "sage",
   "name": "sagemath"
  },
  "language_info": {
   "codemirror_mode": {
    "name": "ipython",
    "version": 3
   },
   "file_extension": ".py",
   "mimetype": "text/x-python",
   "name": "python",
   "nbconvert_exporter": "python",
   "pygments_lexer": "ipython3",
   "version": "3.9.6"
  }
 },
 "nbformat": 4,
 "nbformat_minor": 4
}
