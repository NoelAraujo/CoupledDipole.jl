{
 "cells": [
  {
   "cell_type": "code",
   "execution_count": 1,
   "metadata": {},
   "outputs": [],
   "source": [
    "%display latex"
   ]
  },
  {
   "cell_type": "markdown",
   "metadata": {},
   "source": [
    "# Equation\n",
    "\n",
    "$$ K^{3D}_{\\alpha \\beta} = i\\delta_{jk}\\delta_{\\alpha \\beta}+ (1 - \\delta_{jk})\\frac{3}{2}\\frac{e^{ik_0r_{jk}}}{k_0r_{jk}} \\left [ \\delta_{\\alpha \\beta}P(ik_0 r_{jk}) +  Q(ik_0r_{jk}) \\frac{r_{jk}^\\alpha r_{jk}^\\beta}{(r_{jk})^2} \\right ] $$\n",
    "\n",
    "$\\mathbf{r}_{jk} = \\mathbf{r}_j - \\mathbf{r}_k$  \n",
    "\n",
    "$r_{jk} = |\\mathbf{r}_{jk}|$  \n",
    "\n",
    "$ P(x) = 1 - 1/x + 1/x^2 $  \n",
    "$ Q(x) = -1 + 3/x - 3/x^2 $\n",
    "\n",
    "$\\alpha, \\beta = x,y,z$  ($m = 0,\\pm 1$)  \n",
    "$r^x_{jk} = x_{jk}$, $r^y_{jk} = y_{jk}$, $r^z_{jk} = z_{jk}$"
   ]
  },
  {
   "cell_type": "markdown",
   "metadata": {},
   "source": [
    "# Analytical"
   ]
  },
  {
   "cell_type": "code",
   "execution_count": 2,
   "metadata": {},
   "outputs": [
    {
     "data": {
      "text/html": [
       "<html><script type=\"math/tex; mode=display\">\\newcommand{\\Bold}[1]{\\mathbf{#1}}\\left(\\begin{array}{rr}\n",
       "r_{11} & r_{12} \\\\\n",
       "r_{21} & r_{22}\n",
       "\\end{array}\\right)</script></html>"
      ],
      "text/latex": [
       "$$\\newcommand{\\Bold}[1]{\\mathbf{#1}}\\left(\\begin{array}{rr}\n",
       "r_{11} & r_{12} \\\\\n",
       "r_{21} & r_{22}\n",
       "\\end{array}\\right)$$"
      ],
      "text/plain": [
       "[r_11 r_12]\n",
       "[r_21 r_22]"
      ]
     },
     "execution_count": 2,
     "metadata": {},
     "output_type": "execute_result"
    }
   ],
   "source": [
    "N = 2\n",
    "r_jn = matrix(SR, 2, var('r_11,r_12,r_21,r_22'))\n",
    "r_jn"
   ]
  },
  {
   "cell_type": "code",
   "execution_count": 3,
   "metadata": {},
   "outputs": [],
   "source": [
    "P(x) = 1 - 1/x + 1/x^2 \n",
    "Q(x) = -1  + 3/x - 3/x^2"
   ]
  },
  {
   "cell_type": "code",
   "execution_count": 4,
   "metadata": {},
   "outputs": [],
   "source": [
    "α_range = β_range = [-1,+1,0]"
   ]
  },
  {
   "cell_type": "code",
   "execution_count": 5,
   "metadata": {},
   "outputs": [
    {
     "data": {
      "text/html": [
       "<html><script type=\"math/tex; mode=display\">\\newcommand{\\Bold}[1]{\\mathbf{#1}}\\left(\\begin{array}{rr}\n",
       "0 & x_{1} - x_{2} \\\\\n",
       "-x_{1} + x_{2} & 0\n",
       "\\end{array}\\right)</script></html>"
      ],
      "text/latex": [
       "$$\\newcommand{\\Bold}[1]{\\mathbf{#1}}\\left(\\begin{array}{rr}\n",
       "0 & x_{1} - x_{2} \\\\\n",
       "-x_{1} + x_{2} & 0\n",
       "\\end{array}\\right)$$"
      ],
      "text/plain": [
       "[         0  x_1 - x_2]\n",
       "[-x_1 + x_2          0]"
      ]
     },
     "metadata": {},
     "output_type": "display_data"
    },
    {
     "name": "stdout",
     "output_type": "stream",
     "text": [
      "\n"
     ]
    },
    {
     "data": {
      "text/html": [
       "<html><script type=\"math/tex; mode=display\">\\newcommand{\\Bold}[1]{\\mathbf{#1}}\\left(\\begin{array}{rr}\n",
       "0 & y_{1} - y_{2} \\\\\n",
       "-y_{1} + y_{2} & 0\n",
       "\\end{array}\\right)</script></html>"
      ],
      "text/latex": [
       "$$\\newcommand{\\Bold}[1]{\\mathbf{#1}}\\left(\\begin{array}{rr}\n",
       "0 & y_{1} - y_{2} \\\\\n",
       "-y_{1} + y_{2} & 0\n",
       "\\end{array}\\right)$$"
      ],
      "text/plain": [
       "[         0  y_1 - y_2]\n",
       "[-y_1 + y_2          0]"
      ]
     },
     "metadata": {},
     "output_type": "display_data"
    },
    {
     "name": "stdout",
     "output_type": "stream",
     "text": [
      "\n"
     ]
    },
    {
     "data": {
      "text/html": [
       "<html><script type=\"math/tex; mode=display\">\\newcommand{\\Bold}[1]{\\mathbf{#1}}\\left(\\begin{array}{rr}\n",
       "0 & z_{1} - z_{2} \\\\\n",
       "-z_{1} + z_{2} & 0\n",
       "\\end{array}\\right)</script></html>"
      ],
      "text/latex": [
       "$$\\newcommand{\\Bold}[1]{\\mathbf{#1}}\\left(\\begin{array}{rr}\n",
       "0 & z_{1} - z_{2} \\\\\n",
       "-z_{1} + z_{2} & 0\n",
       "\\end{array}\\right)$$"
      ],
      "text/plain": [
       "[         0  z_1 - z_2]\n",
       "[-z_1 + z_2          0]"
      ]
     },
     "metadata": {},
     "output_type": "display_data"
    }
   ],
   "source": [
    "X_j = matrix(SR, [['x_1'],['x_2']]  )\n",
    "Y_j = matrix(SR, [['y_1'],['y_2']]  )\n",
    "Z_j = matrix(SR, [['z_1'],['z_2']]  )\n",
    "\n",
    "X_jk = X_j*ones_matrix(1,2) - ones_matrix(2,1)*X_j.transpose()\n",
    "Y_jk = Y_j*ones_matrix(1,2) - ones_matrix(2,1)*Y_j.transpose()\n",
    "Z_jk = Z_j*ones_matrix(1,2) - ones_matrix(2,1)*Z_j.transpose()\n",
    "\n",
    "display(X_jk)\n",
    "print()\n",
    "display(Y_jk)\n",
    "print()\n",
    "display(Z_jk)"
   ]
  },
  {
   "cell_type": "code",
   "execution_count": 6,
   "metadata": {},
   "outputs": [
    {
     "name": "stdout",
     "output_type": "stream",
     "text": [
      "----> α: -1  ... β: -1  ... j: 0  ... k: 0  ... \n"
     ]
    },
    {
     "data": {
      "text/html": [
       "<html><script type=\"math/tex; mode=display\">\\newcommand{\\Bold}[1]{\\mathbf{#1}}i</script></html>"
      ],
      "text/latex": [
       "$$\\newcommand{\\Bold}[1]{\\mathbf{#1}}i$$"
      ],
      "text/plain": [
       "I"
      ]
     },
     "metadata": {},
     "output_type": "display_data"
    },
    {
     "name": "stdout",
     "output_type": "stream",
     "text": [
      "----> α: -1  ... β: -1  ... j: 0  ... k: 1  ... \n"
     ]
    },
    {
     "data": {
      "text/html": [
       "<html><script type=\"math/tex; mode=display\">\\newcommand{\\Bold}[1]{\\mathbf{#1}}\\frac{3 \\, {\\left(\\frac{{\\left(x_{1} - x_{2}\\right)}^{2} {\\left(-\\frac{3 i}{r_{12}} + \\frac{3}{r_{12}^{2}} - 1\\right)}}{r_{12}^{2}} + \\frac{i}{r_{12}} - \\frac{1}{r_{12}^{2}} + 1\\right)} e^{\\left(i \\, r_{12}\\right)}}{2 \\, r_{12}}</script></html>"
      ],
      "text/latex": [
       "$$\\newcommand{\\Bold}[1]{\\mathbf{#1}}\\frac{3 \\, {\\left(\\frac{{\\left(x_{1} - x_{2}\\right)}^{2} {\\left(-\\frac{3 i}{r_{12}} + \\frac{3}{r_{12}^{2}} - 1\\right)}}{r_{12}^{2}} + \\frac{i}{r_{12}} - \\frac{1}{r_{12}^{2}} + 1\\right)} e^{\\left(i \\, r_{12}\\right)}}{2 \\, r_{12}}$$"
      ],
      "text/plain": [
       "3/2*((x_1 - x_2)^2*(-3*I/r_12 + 3/r_12^2 - 1)/r_12^2 + I/r_12 - 1/r_12^2 + 1)*e^(I*r_12)/r_12"
      ]
     },
     "metadata": {},
     "output_type": "display_data"
    },
    {
     "name": "stdout",
     "output_type": "stream",
     "text": [
      "----> α: -1  ... β: -1  ... j: 1  ... k: 0  ... \n"
     ]
    },
    {
     "data": {
      "text/html": [
       "<html><script type=\"math/tex; mode=display\">\\newcommand{\\Bold}[1]{\\mathbf{#1}}\\frac{3 \\, {\\left(\\frac{{\\left(x_{1} - x_{2}\\right)}^{2} {\\left(-\\frac{3 i}{r_{21}} + \\frac{3}{r_{21}^{2}} - 1\\right)}}{r_{21}^{2}} + \\frac{i}{r_{21}} - \\frac{1}{r_{21}^{2}} + 1\\right)} e^{\\left(i \\, r_{21}\\right)}}{2 \\, r_{21}}</script></html>"
      ],
      "text/latex": [
       "$$\\newcommand{\\Bold}[1]{\\mathbf{#1}}\\frac{3 \\, {\\left(\\frac{{\\left(x_{1} - x_{2}\\right)}^{2} {\\left(-\\frac{3 i}{r_{21}} + \\frac{3}{r_{21}^{2}} - 1\\right)}}{r_{21}^{2}} + \\frac{i}{r_{21}} - \\frac{1}{r_{21}^{2}} + 1\\right)} e^{\\left(i \\, r_{21}\\right)}}{2 \\, r_{21}}$$"
      ],
      "text/plain": [
       "3/2*((x_1 - x_2)^2*(-3*I/r_21 + 3/r_21^2 - 1)/r_21^2 + I/r_21 - 1/r_21^2 + 1)*e^(I*r_21)/r_21"
      ]
     },
     "metadata": {},
     "output_type": "display_data"
    },
    {
     "name": "stdout",
     "output_type": "stream",
     "text": [
      "----> α: -1  ... β: -1  ... j: 1  ... k: 1  ... \n"
     ]
    },
    {
     "data": {
      "text/html": [
       "<html><script type=\"math/tex; mode=display\">\\newcommand{\\Bold}[1]{\\mathbf{#1}}i</script></html>"
      ],
      "text/latex": [
       "$$\\newcommand{\\Bold}[1]{\\mathbf{#1}}i$$"
      ],
      "text/plain": [
       "I"
      ]
     },
     "metadata": {},
     "output_type": "display_data"
    },
    {
     "name": "stdout",
     "output_type": "stream",
     "text": [
      "\n",
      "----> α: -1  ... β: 1  ... j: 0  ... k: 0  ... \n"
     ]
    },
    {
     "data": {
      "text/html": [
       "<html><script type=\"math/tex; mode=display\">\\newcommand{\\Bold}[1]{\\mathbf{#1}}0</script></html>"
      ],
      "text/latex": [
       "$$\\newcommand{\\Bold}[1]{\\mathbf{#1}}0$$"
      ],
      "text/plain": [
       "0"
      ]
     },
     "metadata": {},
     "output_type": "display_data"
    },
    {
     "name": "stdout",
     "output_type": "stream",
     "text": [
      "----> α: -1  ... β: 1  ... j: 0  ... k: 1  ... \n"
     ]
    },
    {
     "data": {
      "text/html": [
       "<html><script type=\"math/tex; mode=display\">\\newcommand{\\Bold}[1]{\\mathbf{#1}}\\frac{3 \\, {\\left(x_{1} - x_{2}\\right)} {\\left(y_{1} - y_{2}\\right)} {\\left(-\\frac{3 i}{r_{12}} + \\frac{3}{r_{12}^{2}} - 1\\right)} e^{\\left(i \\, r_{12}\\right)}}{2 \\, r_{12}^{3}}</script></html>"
      ],
      "text/latex": [
       "$$\\newcommand{\\Bold}[1]{\\mathbf{#1}}\\frac{3 \\, {\\left(x_{1} - x_{2}\\right)} {\\left(y_{1} - y_{2}\\right)} {\\left(-\\frac{3 i}{r_{12}} + \\frac{3}{r_{12}^{2}} - 1\\right)} e^{\\left(i \\, r_{12}\\right)}}{2 \\, r_{12}^{3}}$$"
      ],
      "text/plain": [
       "3/2*(x_1 - x_2)*(y_1 - y_2)*(-3*I/r_12 + 3/r_12^2 - 1)*e^(I*r_12)/r_12^3"
      ]
     },
     "metadata": {},
     "output_type": "display_data"
    },
    {
     "name": "stdout",
     "output_type": "stream",
     "text": [
      "----> α: -1  ... β: 1  ... j: 1  ... k: 0  ... \n"
     ]
    },
    {
     "data": {
      "text/html": [
       "<html><script type=\"math/tex; mode=display\">\\newcommand{\\Bold}[1]{\\mathbf{#1}}\\frac{3 \\, {\\left(x_{1} - x_{2}\\right)} {\\left(y_{1} - y_{2}\\right)} {\\left(-\\frac{3 i}{r_{21}} + \\frac{3}{r_{21}^{2}} - 1\\right)} e^{\\left(i \\, r_{21}\\right)}}{2 \\, r_{21}^{3}}</script></html>"
      ],
      "text/latex": [
       "$$\\newcommand{\\Bold}[1]{\\mathbf{#1}}\\frac{3 \\, {\\left(x_{1} - x_{2}\\right)} {\\left(y_{1} - y_{2}\\right)} {\\left(-\\frac{3 i}{r_{21}} + \\frac{3}{r_{21}^{2}} - 1\\right)} e^{\\left(i \\, r_{21}\\right)}}{2 \\, r_{21}^{3}}$$"
      ],
      "text/plain": [
       "3/2*(x_1 - x_2)*(y_1 - y_2)*(-3*I/r_21 + 3/r_21^2 - 1)*e^(I*r_21)/r_21^3"
      ]
     },
     "metadata": {},
     "output_type": "display_data"
    },
    {
     "name": "stdout",
     "output_type": "stream",
     "text": [
      "----> α: -1  ... β: 1  ... j: 1  ... k: 1  ... \n"
     ]
    },
    {
     "data": {
      "text/html": [
       "<html><script type=\"math/tex; mode=display\">\\newcommand{\\Bold}[1]{\\mathbf{#1}}0</script></html>"
      ],
      "text/latex": [
       "$$\\newcommand{\\Bold}[1]{\\mathbf{#1}}0$$"
      ],
      "text/plain": [
       "0"
      ]
     },
     "metadata": {},
     "output_type": "display_data"
    },
    {
     "name": "stdout",
     "output_type": "stream",
     "text": [
      "\n",
      "----> α: -1  ... β: 0  ... j: 0  ... k: 0  ... \n"
     ]
    },
    {
     "data": {
      "text/html": [
       "<html><script type=\"math/tex; mode=display\">\\newcommand{\\Bold}[1]{\\mathbf{#1}}0</script></html>"
      ],
      "text/latex": [
       "$$\\newcommand{\\Bold}[1]{\\mathbf{#1}}0$$"
      ],
      "text/plain": [
       "0"
      ]
     },
     "metadata": {},
     "output_type": "display_data"
    },
    {
     "name": "stdout",
     "output_type": "stream",
     "text": [
      "----> α: -1  ... β: 0  ... j: 0  ... k: 1  ... \n"
     ]
    },
    {
     "data": {
      "text/html": [
       "<html><script type=\"math/tex; mode=display\">\\newcommand{\\Bold}[1]{\\mathbf{#1}}\\frac{3 \\, {\\left(x_{1} - x_{2}\\right)} {\\left(z_{1} - z_{2}\\right)} {\\left(-\\frac{3 i}{r_{12}} + \\frac{3}{r_{12}^{2}} - 1\\right)} e^{\\left(i \\, r_{12}\\right)}}{2 \\, r_{12}^{3}}</script></html>"
      ],
      "text/latex": [
       "$$\\newcommand{\\Bold}[1]{\\mathbf{#1}}\\frac{3 \\, {\\left(x_{1} - x_{2}\\right)} {\\left(z_{1} - z_{2}\\right)} {\\left(-\\frac{3 i}{r_{12}} + \\frac{3}{r_{12}^{2}} - 1\\right)} e^{\\left(i \\, r_{12}\\right)}}{2 \\, r_{12}^{3}}$$"
      ],
      "text/plain": [
       "3/2*(x_1 - x_2)*(z_1 - z_2)*(-3*I/r_12 + 3/r_12^2 - 1)*e^(I*r_12)/r_12^3"
      ]
     },
     "metadata": {},
     "output_type": "display_data"
    },
    {
     "name": "stdout",
     "output_type": "stream",
     "text": [
      "----> α: -1  ... β: 0  ... j: 1  ... k: 0  ... \n"
     ]
    },
    {
     "data": {
      "text/html": [
       "<html><script type=\"math/tex; mode=display\">\\newcommand{\\Bold}[1]{\\mathbf{#1}}\\frac{3 \\, {\\left(x_{1} - x_{2}\\right)} {\\left(z_{1} - z_{2}\\right)} {\\left(-\\frac{3 i}{r_{21}} + \\frac{3}{r_{21}^{2}} - 1\\right)} e^{\\left(i \\, r_{21}\\right)}}{2 \\, r_{21}^{3}}</script></html>"
      ],
      "text/latex": [
       "$$\\newcommand{\\Bold}[1]{\\mathbf{#1}}\\frac{3 \\, {\\left(x_{1} - x_{2}\\right)} {\\left(z_{1} - z_{2}\\right)} {\\left(-\\frac{3 i}{r_{21}} + \\frac{3}{r_{21}^{2}} - 1\\right)} e^{\\left(i \\, r_{21}\\right)}}{2 \\, r_{21}^{3}}$$"
      ],
      "text/plain": [
       "3/2*(x_1 - x_2)*(z_1 - z_2)*(-3*I/r_21 + 3/r_21^2 - 1)*e^(I*r_21)/r_21^3"
      ]
     },
     "metadata": {},
     "output_type": "display_data"
    },
    {
     "name": "stdout",
     "output_type": "stream",
     "text": [
      "----> α: -1  ... β: 0  ... j: 1  ... k: 1  ... \n"
     ]
    },
    {
     "data": {
      "text/html": [
       "<html><script type=\"math/tex; mode=display\">\\newcommand{\\Bold}[1]{\\mathbf{#1}}0</script></html>"
      ],
      "text/latex": [
       "$$\\newcommand{\\Bold}[1]{\\mathbf{#1}}0$$"
      ],
      "text/plain": [
       "0"
      ]
     },
     "metadata": {},
     "output_type": "display_data"
    },
    {
     "name": "stdout",
     "output_type": "stream",
     "text": [
      "\n",
      "----> α: 1  ... β: -1  ... j: 0  ... k: 0  ... \n"
     ]
    },
    {
     "data": {
      "text/html": [
       "<html><script type=\"math/tex; mode=display\">\\newcommand{\\Bold}[1]{\\mathbf{#1}}0</script></html>"
      ],
      "text/latex": [
       "$$\\newcommand{\\Bold}[1]{\\mathbf{#1}}0$$"
      ],
      "text/plain": [
       "0"
      ]
     },
     "metadata": {},
     "output_type": "display_data"
    },
    {
     "name": "stdout",
     "output_type": "stream",
     "text": [
      "----> α: 1  ... β: -1  ... j: 0  ... k: 1  ... \n"
     ]
    },
    {
     "data": {
      "text/html": [
       "<html><script type=\"math/tex; mode=display\">\\newcommand{\\Bold}[1]{\\mathbf{#1}}\\frac{3 \\, {\\left(x_{1} - x_{2}\\right)} {\\left(y_{1} - y_{2}\\right)} {\\left(-\\frac{3 i}{r_{12}} + \\frac{3}{r_{12}^{2}} - 1\\right)} e^{\\left(i \\, r_{12}\\right)}}{2 \\, r_{12}^{3}}</script></html>"
      ],
      "text/latex": [
       "$$\\newcommand{\\Bold}[1]{\\mathbf{#1}}\\frac{3 \\, {\\left(x_{1} - x_{2}\\right)} {\\left(y_{1} - y_{2}\\right)} {\\left(-\\frac{3 i}{r_{12}} + \\frac{3}{r_{12}^{2}} - 1\\right)} e^{\\left(i \\, r_{12}\\right)}}{2 \\, r_{12}^{3}}$$"
      ],
      "text/plain": [
       "3/2*(x_1 - x_2)*(y_1 - y_2)*(-3*I/r_12 + 3/r_12^2 - 1)*e^(I*r_12)/r_12^3"
      ]
     },
     "metadata": {},
     "output_type": "display_data"
    },
    {
     "name": "stdout",
     "output_type": "stream",
     "text": [
      "----> α: 1  ... β: -1  ... j: 1  ... k: 0  ... \n"
     ]
    },
    {
     "data": {
      "text/html": [
       "<html><script type=\"math/tex; mode=display\">\\newcommand{\\Bold}[1]{\\mathbf{#1}}\\frac{3 \\, {\\left(x_{1} - x_{2}\\right)} {\\left(y_{1} - y_{2}\\right)} {\\left(-\\frac{3 i}{r_{21}} + \\frac{3}{r_{21}^{2}} - 1\\right)} e^{\\left(i \\, r_{21}\\right)}}{2 \\, r_{21}^{3}}</script></html>"
      ],
      "text/latex": [
       "$$\\newcommand{\\Bold}[1]{\\mathbf{#1}}\\frac{3 \\, {\\left(x_{1} - x_{2}\\right)} {\\left(y_{1} - y_{2}\\right)} {\\left(-\\frac{3 i}{r_{21}} + \\frac{3}{r_{21}^{2}} - 1\\right)} e^{\\left(i \\, r_{21}\\right)}}{2 \\, r_{21}^{3}}$$"
      ],
      "text/plain": [
       "3/2*(x_1 - x_2)*(y_1 - y_2)*(-3*I/r_21 + 3/r_21^2 - 1)*e^(I*r_21)/r_21^3"
      ]
     },
     "metadata": {},
     "output_type": "display_data"
    },
    {
     "name": "stdout",
     "output_type": "stream",
     "text": [
      "----> α: 1  ... β: -1  ... j: 1  ... k: 1  ... \n"
     ]
    },
    {
     "data": {
      "text/html": [
       "<html><script type=\"math/tex; mode=display\">\\newcommand{\\Bold}[1]{\\mathbf{#1}}0</script></html>"
      ],
      "text/latex": [
       "$$\\newcommand{\\Bold}[1]{\\mathbf{#1}}0$$"
      ],
      "text/plain": [
       "0"
      ]
     },
     "metadata": {},
     "output_type": "display_data"
    },
    {
     "name": "stdout",
     "output_type": "stream",
     "text": [
      "\n",
      "----> α: 1  ... β: 1  ... j: 0  ... k: 0  ... \n"
     ]
    },
    {
     "data": {
      "text/html": [
       "<html><script type=\"math/tex; mode=display\">\\newcommand{\\Bold}[1]{\\mathbf{#1}}i</script></html>"
      ],
      "text/latex": [
       "$$\\newcommand{\\Bold}[1]{\\mathbf{#1}}i$$"
      ],
      "text/plain": [
       "I"
      ]
     },
     "metadata": {},
     "output_type": "display_data"
    },
    {
     "name": "stdout",
     "output_type": "stream",
     "text": [
      "----> α: 1  ... β: 1  ... j: 0  ... k: 1  ... \n"
     ]
    },
    {
     "data": {
      "text/html": [
       "<html><script type=\"math/tex; mode=display\">\\newcommand{\\Bold}[1]{\\mathbf{#1}}\\frac{3 \\, {\\left(\\frac{{\\left(y_{1} - y_{2}\\right)}^{2} {\\left(-\\frac{3 i}{r_{12}} + \\frac{3}{r_{12}^{2}} - 1\\right)}}{r_{12}^{2}} + \\frac{i}{r_{12}} - \\frac{1}{r_{12}^{2}} + 1\\right)} e^{\\left(i \\, r_{12}\\right)}}{2 \\, r_{12}}</script></html>"
      ],
      "text/latex": [
       "$$\\newcommand{\\Bold}[1]{\\mathbf{#1}}\\frac{3 \\, {\\left(\\frac{{\\left(y_{1} - y_{2}\\right)}^{2} {\\left(-\\frac{3 i}{r_{12}} + \\frac{3}{r_{12}^{2}} - 1\\right)}}{r_{12}^{2}} + \\frac{i}{r_{12}} - \\frac{1}{r_{12}^{2}} + 1\\right)} e^{\\left(i \\, r_{12}\\right)}}{2 \\, r_{12}}$$"
      ],
      "text/plain": [
       "3/2*((y_1 - y_2)^2*(-3*I/r_12 + 3/r_12^2 - 1)/r_12^2 + I/r_12 - 1/r_12^2 + 1)*e^(I*r_12)/r_12"
      ]
     },
     "metadata": {},
     "output_type": "display_data"
    },
    {
     "name": "stdout",
     "output_type": "stream",
     "text": [
      "----> α: 1  ... β: 1  ... j: 1  ... k: 0  ... \n"
     ]
    },
    {
     "data": {
      "text/html": [
       "<html><script type=\"math/tex; mode=display\">\\newcommand{\\Bold}[1]{\\mathbf{#1}}\\frac{3 \\, {\\left(\\frac{{\\left(y_{1} - y_{2}\\right)}^{2} {\\left(-\\frac{3 i}{r_{21}} + \\frac{3}{r_{21}^{2}} - 1\\right)}}{r_{21}^{2}} + \\frac{i}{r_{21}} - \\frac{1}{r_{21}^{2}} + 1\\right)} e^{\\left(i \\, r_{21}\\right)}}{2 \\, r_{21}}</script></html>"
      ],
      "text/latex": [
       "$$\\newcommand{\\Bold}[1]{\\mathbf{#1}}\\frac{3 \\, {\\left(\\frac{{\\left(y_{1} - y_{2}\\right)}^{2} {\\left(-\\frac{3 i}{r_{21}} + \\frac{3}{r_{21}^{2}} - 1\\right)}}{r_{21}^{2}} + \\frac{i}{r_{21}} - \\frac{1}{r_{21}^{2}} + 1\\right)} e^{\\left(i \\, r_{21}\\right)}}{2 \\, r_{21}}$$"
      ],
      "text/plain": [
       "3/2*((y_1 - y_2)^2*(-3*I/r_21 + 3/r_21^2 - 1)/r_21^2 + I/r_21 - 1/r_21^2 + 1)*e^(I*r_21)/r_21"
      ]
     },
     "metadata": {},
     "output_type": "display_data"
    },
    {
     "name": "stdout",
     "output_type": "stream",
     "text": [
      "----> α: 1  ... β: 1  ... j: 1  ... k: 1  ... \n"
     ]
    },
    {
     "data": {
      "text/html": [
       "<html><script type=\"math/tex; mode=display\">\\newcommand{\\Bold}[1]{\\mathbf{#1}}i</script></html>"
      ],
      "text/latex": [
       "$$\\newcommand{\\Bold}[1]{\\mathbf{#1}}i$$"
      ],
      "text/plain": [
       "I"
      ]
     },
     "metadata": {},
     "output_type": "display_data"
    },
    {
     "name": "stdout",
     "output_type": "stream",
     "text": [
      "\n",
      "----> α: 1  ... β: 0  ... j: 0  ... k: 0  ... \n"
     ]
    },
    {
     "data": {
      "text/html": [
       "<html><script type=\"math/tex; mode=display\">\\newcommand{\\Bold}[1]{\\mathbf{#1}}0</script></html>"
      ],
      "text/latex": [
       "$$\\newcommand{\\Bold}[1]{\\mathbf{#1}}0$$"
      ],
      "text/plain": [
       "0"
      ]
     },
     "metadata": {},
     "output_type": "display_data"
    },
    {
     "name": "stdout",
     "output_type": "stream",
     "text": [
      "----> α: 1  ... β: 0  ... j: 0  ... k: 1  ... \n"
     ]
    },
    {
     "data": {
      "text/html": [
       "<html><script type=\"math/tex; mode=display\">\\newcommand{\\Bold}[1]{\\mathbf{#1}}\\frac{3 \\, {\\left(y_{1} - y_{2}\\right)} {\\left(z_{1} - z_{2}\\right)} {\\left(-\\frac{3 i}{r_{12}} + \\frac{3}{r_{12}^{2}} - 1\\right)} e^{\\left(i \\, r_{12}\\right)}}{2 \\, r_{12}^{3}}</script></html>"
      ],
      "text/latex": [
       "$$\\newcommand{\\Bold}[1]{\\mathbf{#1}}\\frac{3 \\, {\\left(y_{1} - y_{2}\\right)} {\\left(z_{1} - z_{2}\\right)} {\\left(-\\frac{3 i}{r_{12}} + \\frac{3}{r_{12}^{2}} - 1\\right)} e^{\\left(i \\, r_{12}\\right)}}{2 \\, r_{12}^{3}}$$"
      ],
      "text/plain": [
       "3/2*(y_1 - y_2)*(z_1 - z_2)*(-3*I/r_12 + 3/r_12^2 - 1)*e^(I*r_12)/r_12^3"
      ]
     },
     "metadata": {},
     "output_type": "display_data"
    },
    {
     "name": "stdout",
     "output_type": "stream",
     "text": [
      "----> α: 1  ... β: 0  ... j: 1  ... k: 0  ... \n"
     ]
    },
    {
     "data": {
      "text/html": [
       "<html><script type=\"math/tex; mode=display\">\\newcommand{\\Bold}[1]{\\mathbf{#1}}\\frac{3 \\, {\\left(y_{1} - y_{2}\\right)} {\\left(z_{1} - z_{2}\\right)} {\\left(-\\frac{3 i}{r_{21}} + \\frac{3}{r_{21}^{2}} - 1\\right)} e^{\\left(i \\, r_{21}\\right)}}{2 \\, r_{21}^{3}}</script></html>"
      ],
      "text/latex": [
       "$$\\newcommand{\\Bold}[1]{\\mathbf{#1}}\\frac{3 \\, {\\left(y_{1} - y_{2}\\right)} {\\left(z_{1} - z_{2}\\right)} {\\left(-\\frac{3 i}{r_{21}} + \\frac{3}{r_{21}^{2}} - 1\\right)} e^{\\left(i \\, r_{21}\\right)}}{2 \\, r_{21}^{3}}$$"
      ],
      "text/plain": [
       "3/2*(y_1 - y_2)*(z_1 - z_2)*(-3*I/r_21 + 3/r_21^2 - 1)*e^(I*r_21)/r_21^3"
      ]
     },
     "metadata": {},
     "output_type": "display_data"
    },
    {
     "name": "stdout",
     "output_type": "stream",
     "text": [
      "----> α: 1  ... β: 0  ... j: 1  ... k: 1  ... \n"
     ]
    },
    {
     "data": {
      "text/html": [
       "<html><script type=\"math/tex; mode=display\">\\newcommand{\\Bold}[1]{\\mathbf{#1}}0</script></html>"
      ],
      "text/latex": [
       "$$\\newcommand{\\Bold}[1]{\\mathbf{#1}}0$$"
      ],
      "text/plain": [
       "0"
      ]
     },
     "metadata": {},
     "output_type": "display_data"
    },
    {
     "name": "stdout",
     "output_type": "stream",
     "text": [
      "\n",
      "----> α: 0  ... β: -1  ... j: 0  ... k: 0  ... \n"
     ]
    },
    {
     "data": {
      "text/html": [
       "<html><script type=\"math/tex; mode=display\">\\newcommand{\\Bold}[1]{\\mathbf{#1}}0</script></html>"
      ],
      "text/latex": [
       "$$\\newcommand{\\Bold}[1]{\\mathbf{#1}}0$$"
      ],
      "text/plain": [
       "0"
      ]
     },
     "metadata": {},
     "output_type": "display_data"
    },
    {
     "name": "stdout",
     "output_type": "stream",
     "text": [
      "----> α: 0  ... β: -1  ... j: 0  ... k: 1  ... \n"
     ]
    },
    {
     "data": {
      "text/html": [
       "<html><script type=\"math/tex; mode=display\">\\newcommand{\\Bold}[1]{\\mathbf{#1}}\\frac{3 \\, {\\left(x_{1} - x_{2}\\right)} {\\left(z_{1} - z_{2}\\right)} {\\left(-\\frac{3 i}{r_{12}} + \\frac{3}{r_{12}^{2}} - 1\\right)} e^{\\left(i \\, r_{12}\\right)}}{2 \\, r_{12}^{3}}</script></html>"
      ],
      "text/latex": [
       "$$\\newcommand{\\Bold}[1]{\\mathbf{#1}}\\frac{3 \\, {\\left(x_{1} - x_{2}\\right)} {\\left(z_{1} - z_{2}\\right)} {\\left(-\\frac{3 i}{r_{12}} + \\frac{3}{r_{12}^{2}} - 1\\right)} e^{\\left(i \\, r_{12}\\right)}}{2 \\, r_{12}^{3}}$$"
      ],
      "text/plain": [
       "3/2*(x_1 - x_2)*(z_1 - z_2)*(-3*I/r_12 + 3/r_12^2 - 1)*e^(I*r_12)/r_12^3"
      ]
     },
     "metadata": {},
     "output_type": "display_data"
    },
    {
     "name": "stdout",
     "output_type": "stream",
     "text": [
      "----> α: 0  ... β: -1  ... j: 1  ... k: 0  ... \n"
     ]
    },
    {
     "data": {
      "text/html": [
       "<html><script type=\"math/tex; mode=display\">\\newcommand{\\Bold}[1]{\\mathbf{#1}}\\frac{3 \\, {\\left(x_{1} - x_{2}\\right)} {\\left(z_{1} - z_{2}\\right)} {\\left(-\\frac{3 i}{r_{21}} + \\frac{3}{r_{21}^{2}} - 1\\right)} e^{\\left(i \\, r_{21}\\right)}}{2 \\, r_{21}^{3}}</script></html>"
      ],
      "text/latex": [
       "$$\\newcommand{\\Bold}[1]{\\mathbf{#1}}\\frac{3 \\, {\\left(x_{1} - x_{2}\\right)} {\\left(z_{1} - z_{2}\\right)} {\\left(-\\frac{3 i}{r_{21}} + \\frac{3}{r_{21}^{2}} - 1\\right)} e^{\\left(i \\, r_{21}\\right)}}{2 \\, r_{21}^{3}}$$"
      ],
      "text/plain": [
       "3/2*(x_1 - x_2)*(z_1 - z_2)*(-3*I/r_21 + 3/r_21^2 - 1)*e^(I*r_21)/r_21^3"
      ]
     },
     "metadata": {},
     "output_type": "display_data"
    },
    {
     "name": "stdout",
     "output_type": "stream",
     "text": [
      "----> α: 0  ... β: -1  ... j: 1  ... k: 1  ... \n"
     ]
    },
    {
     "data": {
      "text/html": [
       "<html><script type=\"math/tex; mode=display\">\\newcommand{\\Bold}[1]{\\mathbf{#1}}0</script></html>"
      ],
      "text/latex": [
       "$$\\newcommand{\\Bold}[1]{\\mathbf{#1}}0$$"
      ],
      "text/plain": [
       "0"
      ]
     },
     "metadata": {},
     "output_type": "display_data"
    },
    {
     "name": "stdout",
     "output_type": "stream",
     "text": [
      "\n",
      "----> α: 0  ... β: 1  ... j: 0  ... k: 0  ... \n"
     ]
    },
    {
     "data": {
      "text/html": [
       "<html><script type=\"math/tex; mode=display\">\\newcommand{\\Bold}[1]{\\mathbf{#1}}0</script></html>"
      ],
      "text/latex": [
       "$$\\newcommand{\\Bold}[1]{\\mathbf{#1}}0$$"
      ],
      "text/plain": [
       "0"
      ]
     },
     "metadata": {},
     "output_type": "display_data"
    },
    {
     "name": "stdout",
     "output_type": "stream",
     "text": [
      "----> α: 0  ... β: 1  ... j: 0  ... k: 1  ... \n"
     ]
    },
    {
     "data": {
      "text/html": [
       "<html><script type=\"math/tex; mode=display\">\\newcommand{\\Bold}[1]{\\mathbf{#1}}\\frac{3 \\, {\\left(y_{1} - y_{2}\\right)} {\\left(z_{1} - z_{2}\\right)} {\\left(-\\frac{3 i}{r_{12}} + \\frac{3}{r_{12}^{2}} - 1\\right)} e^{\\left(i \\, r_{12}\\right)}}{2 \\, r_{12}^{3}}</script></html>"
      ],
      "text/latex": [
       "$$\\newcommand{\\Bold}[1]{\\mathbf{#1}}\\frac{3 \\, {\\left(y_{1} - y_{2}\\right)} {\\left(z_{1} - z_{2}\\right)} {\\left(-\\frac{3 i}{r_{12}} + \\frac{3}{r_{12}^{2}} - 1\\right)} e^{\\left(i \\, r_{12}\\right)}}{2 \\, r_{12}^{3}}$$"
      ],
      "text/plain": [
       "3/2*(y_1 - y_2)*(z_1 - z_2)*(-3*I/r_12 + 3/r_12^2 - 1)*e^(I*r_12)/r_12^3"
      ]
     },
     "metadata": {},
     "output_type": "display_data"
    },
    {
     "name": "stdout",
     "output_type": "stream",
     "text": [
      "----> α: 0  ... β: 1  ... j: 1  ... k: 0  ... \n"
     ]
    },
    {
     "data": {
      "text/html": [
       "<html><script type=\"math/tex; mode=display\">\\newcommand{\\Bold}[1]{\\mathbf{#1}}\\frac{3 \\, {\\left(y_{1} - y_{2}\\right)} {\\left(z_{1} - z_{2}\\right)} {\\left(-\\frac{3 i}{r_{21}} + \\frac{3}{r_{21}^{2}} - 1\\right)} e^{\\left(i \\, r_{21}\\right)}}{2 \\, r_{21}^{3}}</script></html>"
      ],
      "text/latex": [
       "$$\\newcommand{\\Bold}[1]{\\mathbf{#1}}\\frac{3 \\, {\\left(y_{1} - y_{2}\\right)} {\\left(z_{1} - z_{2}\\right)} {\\left(-\\frac{3 i}{r_{21}} + \\frac{3}{r_{21}^{2}} - 1\\right)} e^{\\left(i \\, r_{21}\\right)}}{2 \\, r_{21}^{3}}$$"
      ],
      "text/plain": [
       "3/2*(y_1 - y_2)*(z_1 - z_2)*(-3*I/r_21 + 3/r_21^2 - 1)*e^(I*r_21)/r_21^3"
      ]
     },
     "metadata": {},
     "output_type": "display_data"
    },
    {
     "name": "stdout",
     "output_type": "stream",
     "text": [
      "----> α: 0  ... β: 1  ... j: 1  ... k: 1  ... \n"
     ]
    },
    {
     "data": {
      "text/html": [
       "<html><script type=\"math/tex; mode=display\">\\newcommand{\\Bold}[1]{\\mathbf{#1}}0</script></html>"
      ],
      "text/latex": [
       "$$\\newcommand{\\Bold}[1]{\\mathbf{#1}}0$$"
      ],
      "text/plain": [
       "0"
      ]
     },
     "metadata": {},
     "output_type": "display_data"
    },
    {
     "name": "stdout",
     "output_type": "stream",
     "text": [
      "\n",
      "----> α: 0  ... β: 0  ... j: 0  ... k: 0  ... \n"
     ]
    },
    {
     "data": {
      "text/html": [
       "<html><script type=\"math/tex; mode=display\">\\newcommand{\\Bold}[1]{\\mathbf{#1}}i</script></html>"
      ],
      "text/latex": [
       "$$\\newcommand{\\Bold}[1]{\\mathbf{#1}}i$$"
      ],
      "text/plain": [
       "I"
      ]
     },
     "metadata": {},
     "output_type": "display_data"
    },
    {
     "name": "stdout",
     "output_type": "stream",
     "text": [
      "----> α: 0  ... β: 0  ... j: 0  ... k: 1  ... \n"
     ]
    },
    {
     "data": {
      "text/html": [
       "<html><script type=\"math/tex; mode=display\">\\newcommand{\\Bold}[1]{\\mathbf{#1}}\\frac{3 \\, {\\left(\\frac{{\\left(z_{1} - z_{2}\\right)}^{2} {\\left(-\\frac{3 i}{r_{12}} + \\frac{3}{r_{12}^{2}} - 1\\right)}}{r_{12}^{2}} + \\frac{i}{r_{12}} - \\frac{1}{r_{12}^{2}} + 1\\right)} e^{\\left(i \\, r_{12}\\right)}}{2 \\, r_{12}}</script></html>"
      ],
      "text/latex": [
       "$$\\newcommand{\\Bold}[1]{\\mathbf{#1}}\\frac{3 \\, {\\left(\\frac{{\\left(z_{1} - z_{2}\\right)}^{2} {\\left(-\\frac{3 i}{r_{12}} + \\frac{3}{r_{12}^{2}} - 1\\right)}}{r_{12}^{2}} + \\frac{i}{r_{12}} - \\frac{1}{r_{12}^{2}} + 1\\right)} e^{\\left(i \\, r_{12}\\right)}}{2 \\, r_{12}}$$"
      ],
      "text/plain": [
       "3/2*((z_1 - z_2)^2*(-3*I/r_12 + 3/r_12^2 - 1)/r_12^2 + I/r_12 - 1/r_12^2 + 1)*e^(I*r_12)/r_12"
      ]
     },
     "metadata": {},
     "output_type": "display_data"
    },
    {
     "name": "stdout",
     "output_type": "stream",
     "text": [
      "----> α: 0  ... β: 0  ... j: 1  ... k: 0  ... \n"
     ]
    },
    {
     "data": {
      "text/html": [
       "<html><script type=\"math/tex; mode=display\">\\newcommand{\\Bold}[1]{\\mathbf{#1}}\\frac{3 \\, {\\left(\\frac{{\\left(z_{1} - z_{2}\\right)}^{2} {\\left(-\\frac{3 i}{r_{21}} + \\frac{3}{r_{21}^{2}} - 1\\right)}}{r_{21}^{2}} + \\frac{i}{r_{21}} - \\frac{1}{r_{21}^{2}} + 1\\right)} e^{\\left(i \\, r_{21}\\right)}}{2 \\, r_{21}}</script></html>"
      ],
      "text/latex": [
       "$$\\newcommand{\\Bold}[1]{\\mathbf{#1}}\\frac{3 \\, {\\left(\\frac{{\\left(z_{1} - z_{2}\\right)}^{2} {\\left(-\\frac{3 i}{r_{21}} + \\frac{3}{r_{21}^{2}} - 1\\right)}}{r_{21}^{2}} + \\frac{i}{r_{21}} - \\frac{1}{r_{21}^{2}} + 1\\right)} e^{\\left(i \\, r_{21}\\right)}}{2 \\, r_{21}}$$"
      ],
      "text/plain": [
       "3/2*((z_1 - z_2)^2*(-3*I/r_21 + 3/r_21^2 - 1)/r_21^2 + I/r_21 - 1/r_21^2 + 1)*e^(I*r_21)/r_21"
      ]
     },
     "metadata": {},
     "output_type": "display_data"
    },
    {
     "name": "stdout",
     "output_type": "stream",
     "text": [
      "----> α: 0  ... β: 0  ... j: 1  ... k: 1  ... \n"
     ]
    },
    {
     "data": {
      "text/html": [
       "<html><script type=\"math/tex; mode=display\">\\newcommand{\\Bold}[1]{\\mathbf{#1}}i</script></html>"
      ],
      "text/latex": [
       "$$\\newcommand{\\Bold}[1]{\\mathbf{#1}}i$$"
      ],
      "text/plain": [
       "I"
      ]
     },
     "metadata": {},
     "output_type": "display_data"
    },
    {
     "name": "stdout",
     "output_type": "stream",
     "text": [
      "\n"
     ]
    }
   ],
   "source": [
    "for (idx_α,α) in enumerate(α_range):\n",
    "    for (idx_β,β) in enumerate(β_range):\n",
    "        for j in range(N):\n",
    "            for k in range(N):\n",
    "                if j != k:\n",
    "                    r_jn_vec = vector(SR, [X_jk[j,k], Y_jk[j,k], Z_jk[j,k]])\n",
    "                    x = r_jn[j,k] \n",
    "\n",
    "                    term1 = I*kronecker_delta(j,k)*kronecker_delta(α,β)\n",
    "                    term2 = (1 - kronecker_delta(j,k))*(3/2)*(exp(i*x)/(x))\n",
    "                    term3 = P(I*x)*kronecker_delta(α,β)\n",
    "                    term4 = Q(I*x)*r_jn_vec[idx_α]*r_jn_vec[idx_β]/x^2\n",
    "                else:\n",
    "                    term1 = I*kronecker_delta(j,k)*kronecker_delta(α,β)\n",
    "                    term2 = 0\n",
    "                    term3 = 0\n",
    "                    term4 = 0\n",
    "                K = term1 + term2*( term3 + term4  )\n",
    "                print('----> α:', α, ' ... β:', β, ' ... j:', j, ' ... k:', k, ' ... ')\n",
    "                display( K )\n",
    "        print()"
   ]
  },
  {
   "cell_type": "markdown",
   "metadata": {},
   "source": [
    "# Numerical"
   ]
  },
  {
   "cell_type": "code",
   "execution_count": 7,
   "metadata": {},
   "outputs": [
    {
     "data": {
      "text/html": [
       "<html><script type=\"math/tex; mode=display\">\\newcommand{\\Bold}[1]{\\mathbf{#1}}\\left(\\begin{array}{rr}\n",
       "0 & -2 \\\\\n",
       "2 & 0\n",
       "\\end{array}\\right)</script></html>"
      ],
      "text/latex": [
       "$$\\newcommand{\\Bold}[1]{\\mathbf{#1}}\\left(\\begin{array}{rr}\n",
       "0 & -2 \\\\\n",
       "2 & 0\n",
       "\\end{array}\\right)$$"
      ],
      "text/plain": [
       "[ 0 -2]\n",
       "[ 2  0]"
      ]
     },
     "metadata": {},
     "output_type": "display_data"
    },
    {
     "name": "stdout",
     "output_type": "stream",
     "text": [
      "\n"
     ]
    },
    {
     "data": {
      "text/html": [
       "<html><script type=\"math/tex; mode=display\">\\newcommand{\\Bold}[1]{\\mathbf{#1}}\\left(\\begin{array}{rr}\n",
       "0 & -3 \\\\\n",
       "3 & 0\n",
       "\\end{array}\\right)</script></html>"
      ],
      "text/latex": [
       "$$\\newcommand{\\Bold}[1]{\\mathbf{#1}}\\left(\\begin{array}{rr}\n",
       "0 & -3 \\\\\n",
       "3 & 0\n",
       "\\end{array}\\right)$$"
      ],
      "text/plain": [
       "[ 0 -3]\n",
       "[ 3  0]"
      ]
     },
     "metadata": {},
     "output_type": "display_data"
    },
    {
     "name": "stdout",
     "output_type": "stream",
     "text": [
      "\n"
     ]
    },
    {
     "data": {
      "text/html": [
       "<html><script type=\"math/tex; mode=display\">\\newcommand{\\Bold}[1]{\\mathbf{#1}}\\left(\\begin{array}{rr}\n",
       "0 & \\frac{11}{2} \\\\\n",
       "-\\frac{11}{2} & 0\n",
       "\\end{array}\\right)</script></html>"
      ],
      "text/latex": [
       "$$\\newcommand{\\Bold}[1]{\\mathbf{#1}}\\left(\\begin{array}{rr}\n",
       "0 & \\frac{11}{2} \\\\\n",
       "-\\frac{11}{2} & 0\n",
       "\\end{array}\\right)$$"
      ],
      "text/plain": [
       "[    0  11/2]\n",
       "[-11/2     0]"
      ]
     },
     "metadata": {},
     "output_type": "display_data"
    }
   ],
   "source": [
    "N = 2\n",
    "X_j = matrix([[1],[3]]  )\n",
    "Y_j = matrix([[2],[5]]  )\n",
    "Z_j = matrix([[5],[-1/2]]  )\n",
    "\n",
    "X_jk = X_j*ones_matrix(1,2) - ones_matrix(2,1)*X_j.transpose()\n",
    "Y_jk = Y_j*ones_matrix(1,2) - ones_matrix(2,1)*Y_j.transpose()\n",
    "Z_jk = Z_j*ones_matrix(1,2) - ones_matrix(2,1)*Z_j.transpose()\n",
    "\n",
    "display(X_jk)\n",
    "print()\n",
    "display(Y_jk)\n",
    "print()\n",
    "display(Z_jk)"
   ]
  },
  {
   "cell_type": "code",
   "execution_count": 8,
   "metadata": {},
   "outputs": [
    {
     "name": "stdout",
     "output_type": "stream",
     "text": [
      "----> α: -1  ... β: -1  ... j: 0  ... k: 0  ... \n"
     ]
    },
    {
     "data": {
      "text/html": [
       "<html><script type=\"math/tex; mode=display\">\\newcommand{\\Bold}[1]{\\mathbf{#1}}i</script></html>"
      ],
      "text/latex": [
       "$$\\newcommand{\\Bold}[1]{\\mathbf{#1}}i$$"
      ],
      "text/plain": [
       "I"
      ]
     },
     "metadata": {},
     "output_type": "display_data"
    },
    {
     "name": "stdout",
     "output_type": "stream",
     "text": [
      "----> α: -1  ... β: -1  ... j: 0  ... k: 1  ... \n"
     ]
    },
    {
     "data": {
      "text/html": [
       "<html><script type=\"math/tex; mode=display\">\\newcommand{\\Bold}[1]{\\mathbf{#1}}-\\frac{3}{5177717} \\, \\sqrt{173} {\\left(-250 i \\, \\sqrt{173} - 26661\\right)} e^{\\left(\\frac{1}{2} i \\, \\sqrt{173}\\right)}</script></html>"
      ],
      "text/latex": [
       "$$\\newcommand{\\Bold}[1]{\\mathbf{#1}}-\\frac{3}{5177717} \\, \\sqrt{173} {\\left(-250 i \\, \\sqrt{173} - 26661\\right)} e^{\\left(\\frac{1}{2} i \\, \\sqrt{173}\\right)}$$"
      ],
      "text/plain": [
       "-3/5177717*sqrt(173)*(-250*I*sqrt(173) - 26661)*e^(1/2*I*sqrt(173))"
      ]
     },
     "metadata": {},
     "output_type": "display_data"
    },
    {
     "name": "stdout",
     "output_type": "stream",
     "text": [
      "----> α: -1  ... β: -1  ... j: 1  ... k: 0  ... \n"
     ]
    },
    {
     "data": {
      "text/html": [
       "<html><script type=\"math/tex; mode=display\">\\newcommand{\\Bold}[1]{\\mathbf{#1}}-\\frac{3}{5177717} \\, \\sqrt{173} {\\left(-250 i \\, \\sqrt{173} - 26661\\right)} e^{\\left(\\frac{1}{2} i \\, \\sqrt{173}\\right)}</script></html>"
      ],
      "text/latex": [
       "$$\\newcommand{\\Bold}[1]{\\mathbf{#1}}-\\frac{3}{5177717} \\, \\sqrt{173} {\\left(-250 i \\, \\sqrt{173} - 26661\\right)} e^{\\left(\\frac{1}{2} i \\, \\sqrt{173}\\right)}$$"
      ],
      "text/plain": [
       "-3/5177717*sqrt(173)*(-250*I*sqrt(173) - 26661)*e^(1/2*I*sqrt(173))"
      ]
     },
     "metadata": {},
     "output_type": "display_data"
    },
    {
     "name": "stdout",
     "output_type": "stream",
     "text": [
      "----> α: -1  ... β: -1  ... j: 1  ... k: 1  ... \n"
     ]
    },
    {
     "data": {
      "text/html": [
       "<html><script type=\"math/tex; mode=display\">\\newcommand{\\Bold}[1]{\\mathbf{#1}}i</script></html>"
      ],
      "text/latex": [
       "$$\\newcommand{\\Bold}[1]{\\mathbf{#1}}i$$"
      ],
      "text/plain": [
       "I"
      ]
     },
     "metadata": {},
     "output_type": "display_data"
    },
    {
     "name": "stdout",
     "output_type": "stream",
     "text": [
      "\n",
      "----> α: -1  ... β: 1  ... j: 0  ... k: 0  ... \n"
     ]
    },
    {
     "data": {
      "text/html": [
       "<html><script type=\"math/tex; mode=display\">\\newcommand{\\Bold}[1]{\\mathbf{#1}}0</script></html>"
      ],
      "text/latex": [
       "$$\\newcommand{\\Bold}[1]{\\mathbf{#1}}0$$"
      ],
      "text/plain": [
       "0"
      ]
     },
     "metadata": {},
     "output_type": "display_data"
    },
    {
     "name": "stdout",
     "output_type": "stream",
     "text": [
      "----> α: -1  ... β: 1  ... j: 0  ... k: 1  ... \n"
     ]
    },
    {
     "data": {
      "text/html": [
       "<html><script type=\"math/tex; mode=display\">\\newcommand{\\Bold}[1]{\\mathbf{#1}}-\\frac{3}{5177717} \\, \\sqrt{173} {\\left(144 i \\, \\sqrt{173} + 3864\\right)} e^{\\left(\\frac{1}{2} i \\, \\sqrt{173}\\right)}</script></html>"
      ],
      "text/latex": [
       "$$\\newcommand{\\Bold}[1]{\\mathbf{#1}}-\\frac{3}{5177717} \\, \\sqrt{173} {\\left(144 i \\, \\sqrt{173} + 3864\\right)} e^{\\left(\\frac{1}{2} i \\, \\sqrt{173}\\right)}$$"
      ],
      "text/plain": [
       "-3/5177717*sqrt(173)*(144*I*sqrt(173) + 3864)*e^(1/2*I*sqrt(173))"
      ]
     },
     "metadata": {},
     "output_type": "display_data"
    },
    {
     "name": "stdout",
     "output_type": "stream",
     "text": [
      "----> α: -1  ... β: 1  ... j: 1  ... k: 0  ... \n"
     ]
    },
    {
     "data": {
      "text/html": [
       "<html><script type=\"math/tex; mode=display\">\\newcommand{\\Bold}[1]{\\mathbf{#1}}-\\frac{3}{5177717} \\, \\sqrt{173} {\\left(144 i \\, \\sqrt{173} + 3864\\right)} e^{\\left(\\frac{1}{2} i \\, \\sqrt{173}\\right)}</script></html>"
      ],
      "text/latex": [
       "$$\\newcommand{\\Bold}[1]{\\mathbf{#1}}-\\frac{3}{5177717} \\, \\sqrt{173} {\\left(144 i \\, \\sqrt{173} + 3864\\right)} e^{\\left(\\frac{1}{2} i \\, \\sqrt{173}\\right)}$$"
      ],
      "text/plain": [
       "-3/5177717*sqrt(173)*(144*I*sqrt(173) + 3864)*e^(1/2*I*sqrt(173))"
      ]
     },
     "metadata": {},
     "output_type": "display_data"
    },
    {
     "name": "stdout",
     "output_type": "stream",
     "text": [
      "----> α: -1  ... β: 1  ... j: 1  ... k: 1  ... \n"
     ]
    },
    {
     "data": {
      "text/html": [
       "<html><script type=\"math/tex; mode=display\">\\newcommand{\\Bold}[1]{\\mathbf{#1}}0</script></html>"
      ],
      "text/latex": [
       "$$\\newcommand{\\Bold}[1]{\\mathbf{#1}}0$$"
      ],
      "text/plain": [
       "0"
      ]
     },
     "metadata": {},
     "output_type": "display_data"
    },
    {
     "name": "stdout",
     "output_type": "stream",
     "text": [
      "\n",
      "----> α: -1  ... β: 0  ... j: 0  ... k: 0  ... \n"
     ]
    },
    {
     "data": {
      "text/html": [
       "<html><script type=\"math/tex; mode=display\">\\newcommand{\\Bold}[1]{\\mathbf{#1}}0</script></html>"
      ],
      "text/latex": [
       "$$\\newcommand{\\Bold}[1]{\\mathbf{#1}}0$$"
      ],
      "text/plain": [
       "0"
      ]
     },
     "metadata": {},
     "output_type": "display_data"
    },
    {
     "name": "stdout",
     "output_type": "stream",
     "text": [
      "----> α: -1  ... β: 0  ... j: 0  ... k: 1  ... \n"
     ]
    },
    {
     "data": {
      "text/html": [
       "<html><script type=\"math/tex; mode=display\">\\newcommand{\\Bold}[1]{\\mathbf{#1}}-\\frac{3}{5177717} \\, \\sqrt{173} {\\left(-264 i \\, \\sqrt{173} - 7084\\right)} e^{\\left(\\frac{1}{2} i \\, \\sqrt{173}\\right)}</script></html>"
      ],
      "text/latex": [
       "$$\\newcommand{\\Bold}[1]{\\mathbf{#1}}-\\frac{3}{5177717} \\, \\sqrt{173} {\\left(-264 i \\, \\sqrt{173} - 7084\\right)} e^{\\left(\\frac{1}{2} i \\, \\sqrt{173}\\right)}$$"
      ],
      "text/plain": [
       "-3/5177717*sqrt(173)*(-264*I*sqrt(173) - 7084)*e^(1/2*I*sqrt(173))"
      ]
     },
     "metadata": {},
     "output_type": "display_data"
    },
    {
     "name": "stdout",
     "output_type": "stream",
     "text": [
      "----> α: -1  ... β: 0  ... j: 1  ... k: 0  ... \n"
     ]
    },
    {
     "data": {
      "text/html": [
       "<html><script type=\"math/tex; mode=display\">\\newcommand{\\Bold}[1]{\\mathbf{#1}}-\\frac{3}{5177717} \\, \\sqrt{173} {\\left(-264 i \\, \\sqrt{173} - 7084\\right)} e^{\\left(\\frac{1}{2} i \\, \\sqrt{173}\\right)}</script></html>"
      ],
      "text/latex": [
       "$$\\newcommand{\\Bold}[1]{\\mathbf{#1}}-\\frac{3}{5177717} \\, \\sqrt{173} {\\left(-264 i \\, \\sqrt{173} - 7084\\right)} e^{\\left(\\frac{1}{2} i \\, \\sqrt{173}\\right)}$$"
      ],
      "text/plain": [
       "-3/5177717*sqrt(173)*(-264*I*sqrt(173) - 7084)*e^(1/2*I*sqrt(173))"
      ]
     },
     "metadata": {},
     "output_type": "display_data"
    },
    {
     "name": "stdout",
     "output_type": "stream",
     "text": [
      "----> α: -1  ... β: 0  ... j: 1  ... k: 1  ... \n"
     ]
    },
    {
     "data": {
      "text/html": [
       "<html><script type=\"math/tex; mode=display\">\\newcommand{\\Bold}[1]{\\mathbf{#1}}0</script></html>"
      ],
      "text/latex": [
       "$$\\newcommand{\\Bold}[1]{\\mathbf{#1}}0$$"
      ],
      "text/plain": [
       "0"
      ]
     },
     "metadata": {},
     "output_type": "display_data"
    },
    {
     "name": "stdout",
     "output_type": "stream",
     "text": [
      "\n",
      "----> α: 1  ... β: -1  ... j: 0  ... k: 0  ... \n"
     ]
    },
    {
     "data": {
      "text/html": [
       "<html><script type=\"math/tex; mode=display\">\\newcommand{\\Bold}[1]{\\mathbf{#1}}0</script></html>"
      ],
      "text/latex": [
       "$$\\newcommand{\\Bold}[1]{\\mathbf{#1}}0$$"
      ],
      "text/plain": [
       "0"
      ]
     },
     "metadata": {},
     "output_type": "display_data"
    },
    {
     "name": "stdout",
     "output_type": "stream",
     "text": [
      "----> α: 1  ... β: -1  ... j: 0  ... k: 1  ... \n"
     ]
    },
    {
     "data": {
      "text/html": [
       "<html><script type=\"math/tex; mode=display\">\\newcommand{\\Bold}[1]{\\mathbf{#1}}-\\frac{3}{5177717} \\, \\sqrt{173} {\\left(144 i \\, \\sqrt{173} + 3864\\right)} e^{\\left(\\frac{1}{2} i \\, \\sqrt{173}\\right)}</script></html>"
      ],
      "text/latex": [
       "$$\\newcommand{\\Bold}[1]{\\mathbf{#1}}-\\frac{3}{5177717} \\, \\sqrt{173} {\\left(144 i \\, \\sqrt{173} + 3864\\right)} e^{\\left(\\frac{1}{2} i \\, \\sqrt{173}\\right)}$$"
      ],
      "text/plain": [
       "-3/5177717*sqrt(173)*(144*I*sqrt(173) + 3864)*e^(1/2*I*sqrt(173))"
      ]
     },
     "metadata": {},
     "output_type": "display_data"
    },
    {
     "name": "stdout",
     "output_type": "stream",
     "text": [
      "----> α: 1  ... β: -1  ... j: 1  ... k: 0  ... \n"
     ]
    },
    {
     "data": {
      "text/html": [
       "<html><script type=\"math/tex; mode=display\">\\newcommand{\\Bold}[1]{\\mathbf{#1}}-\\frac{3}{5177717} \\, \\sqrt{173} {\\left(144 i \\, \\sqrt{173} + 3864\\right)} e^{\\left(\\frac{1}{2} i \\, \\sqrt{173}\\right)}</script></html>"
      ],
      "text/latex": [
       "$$\\newcommand{\\Bold}[1]{\\mathbf{#1}}-\\frac{3}{5177717} \\, \\sqrt{173} {\\left(144 i \\, \\sqrt{173} + 3864\\right)} e^{\\left(\\frac{1}{2} i \\, \\sqrt{173}\\right)}$$"
      ],
      "text/plain": [
       "-3/5177717*sqrt(173)*(144*I*sqrt(173) + 3864)*e^(1/2*I*sqrt(173))"
      ]
     },
     "metadata": {},
     "output_type": "display_data"
    },
    {
     "name": "stdout",
     "output_type": "stream",
     "text": [
      "----> α: 1  ... β: -1  ... j: 1  ... k: 1  ... \n"
     ]
    },
    {
     "data": {
      "text/html": [
       "<html><script type=\"math/tex; mode=display\">\\newcommand{\\Bold}[1]{\\mathbf{#1}}0</script></html>"
      ],
      "text/latex": [
       "$$\\newcommand{\\Bold}[1]{\\mathbf{#1}}0$$"
      ],
      "text/plain": [
       "0"
      ]
     },
     "metadata": {},
     "output_type": "display_data"
    },
    {
     "name": "stdout",
     "output_type": "stream",
     "text": [
      "\n",
      "----> α: 1  ... β: 1  ... j: 0  ... k: 0  ... \n"
     ]
    },
    {
     "data": {
      "text/html": [
       "<html><script type=\"math/tex; mode=display\">\\newcommand{\\Bold}[1]{\\mathbf{#1}}i</script></html>"
      ],
      "text/latex": [
       "$$\\newcommand{\\Bold}[1]{\\mathbf{#1}}i$$"
      ],
      "text/plain": [
       "I"
      ]
     },
     "metadata": {},
     "output_type": "display_data"
    },
    {
     "name": "stdout",
     "output_type": "stream",
     "text": [
      "----> α: 1  ... β: 1  ... j: 0  ... k: 1  ... \n"
     ]
    },
    {
     "data": {
      "text/html": [
       "<html><script type=\"math/tex; mode=display\">\\newcommand{\\Bold}[1]{\\mathbf{#1}}-\\frac{3}{5177717} \\, \\sqrt{173} {\\left(-130 i \\, \\sqrt{173} - 23441\\right)} e^{\\left(\\frac{1}{2} i \\, \\sqrt{173}\\right)}</script></html>"
      ],
      "text/latex": [
       "$$\\newcommand{\\Bold}[1]{\\mathbf{#1}}-\\frac{3}{5177717} \\, \\sqrt{173} {\\left(-130 i \\, \\sqrt{173} - 23441\\right)} e^{\\left(\\frac{1}{2} i \\, \\sqrt{173}\\right)}$$"
      ],
      "text/plain": [
       "-3/5177717*sqrt(173)*(-130*I*sqrt(173) - 23441)*e^(1/2*I*sqrt(173))"
      ]
     },
     "metadata": {},
     "output_type": "display_data"
    },
    {
     "name": "stdout",
     "output_type": "stream",
     "text": [
      "----> α: 1  ... β: 1  ... j: 1  ... k: 0  ... \n"
     ]
    },
    {
     "data": {
      "text/html": [
       "<html><script type=\"math/tex; mode=display\">\\newcommand{\\Bold}[1]{\\mathbf{#1}}-\\frac{3}{5177717} \\, \\sqrt{173} {\\left(-130 i \\, \\sqrt{173} - 23441\\right)} e^{\\left(\\frac{1}{2} i \\, \\sqrt{173}\\right)}</script></html>"
      ],
      "text/latex": [
       "$$\\newcommand{\\Bold}[1]{\\mathbf{#1}}-\\frac{3}{5177717} \\, \\sqrt{173} {\\left(-130 i \\, \\sqrt{173} - 23441\\right)} e^{\\left(\\frac{1}{2} i \\, \\sqrt{173}\\right)}$$"
      ],
      "text/plain": [
       "-3/5177717*sqrt(173)*(-130*I*sqrt(173) - 23441)*e^(1/2*I*sqrt(173))"
      ]
     },
     "metadata": {},
     "output_type": "display_data"
    },
    {
     "name": "stdout",
     "output_type": "stream",
     "text": [
      "----> α: 1  ... β: 1  ... j: 1  ... k: 1  ... \n"
     ]
    },
    {
     "data": {
      "text/html": [
       "<html><script type=\"math/tex; mode=display\">\\newcommand{\\Bold}[1]{\\mathbf{#1}}i</script></html>"
      ],
      "text/latex": [
       "$$\\newcommand{\\Bold}[1]{\\mathbf{#1}}i$$"
      ],
      "text/plain": [
       "I"
      ]
     },
     "metadata": {},
     "output_type": "display_data"
    },
    {
     "name": "stdout",
     "output_type": "stream",
     "text": [
      "\n",
      "----> α: 1  ... β: 0  ... j: 0  ... k: 0  ... \n"
     ]
    },
    {
     "data": {
      "text/html": [
       "<html><script type=\"math/tex; mode=display\">\\newcommand{\\Bold}[1]{\\mathbf{#1}}0</script></html>"
      ],
      "text/latex": [
       "$$\\newcommand{\\Bold}[1]{\\mathbf{#1}}0$$"
      ],
      "text/plain": [
       "0"
      ]
     },
     "metadata": {},
     "output_type": "display_data"
    },
    {
     "name": "stdout",
     "output_type": "stream",
     "text": [
      "----> α: 1  ... β: 0  ... j: 0  ... k: 1  ... \n"
     ]
    },
    {
     "data": {
      "text/html": [
       "<html><script type=\"math/tex; mode=display\">\\newcommand{\\Bold}[1]{\\mathbf{#1}}-\\frac{3}{5177717} \\, \\sqrt{173} {\\left(-396 i \\, \\sqrt{173} - 10626\\right)} e^{\\left(\\frac{1}{2} i \\, \\sqrt{173}\\right)}</script></html>"
      ],
      "text/latex": [
       "$$\\newcommand{\\Bold}[1]{\\mathbf{#1}}-\\frac{3}{5177717} \\, \\sqrt{173} {\\left(-396 i \\, \\sqrt{173} - 10626\\right)} e^{\\left(\\frac{1}{2} i \\, \\sqrt{173}\\right)}$$"
      ],
      "text/plain": [
       "-3/5177717*sqrt(173)*(-396*I*sqrt(173) - 10626)*e^(1/2*I*sqrt(173))"
      ]
     },
     "metadata": {},
     "output_type": "display_data"
    },
    {
     "name": "stdout",
     "output_type": "stream",
     "text": [
      "----> α: 1  ... β: 0  ... j: 1  ... k: 0  ... \n"
     ]
    },
    {
     "data": {
      "text/html": [
       "<html><script type=\"math/tex; mode=display\">\\newcommand{\\Bold}[1]{\\mathbf{#1}}-\\frac{3}{5177717} \\, \\sqrt{173} {\\left(-396 i \\, \\sqrt{173} - 10626\\right)} e^{\\left(\\frac{1}{2} i \\, \\sqrt{173}\\right)}</script></html>"
      ],
      "text/latex": [
       "$$\\newcommand{\\Bold}[1]{\\mathbf{#1}}-\\frac{3}{5177717} \\, \\sqrt{173} {\\left(-396 i \\, \\sqrt{173} - 10626\\right)} e^{\\left(\\frac{1}{2} i \\, \\sqrt{173}\\right)}$$"
      ],
      "text/plain": [
       "-3/5177717*sqrt(173)*(-396*I*sqrt(173) - 10626)*e^(1/2*I*sqrt(173))"
      ]
     },
     "metadata": {},
     "output_type": "display_data"
    },
    {
     "name": "stdout",
     "output_type": "stream",
     "text": [
      "----> α: 1  ... β: 0  ... j: 1  ... k: 1  ... \n"
     ]
    },
    {
     "data": {
      "text/html": [
       "<html><script type=\"math/tex; mode=display\">\\newcommand{\\Bold}[1]{\\mathbf{#1}}0</script></html>"
      ],
      "text/latex": [
       "$$\\newcommand{\\Bold}[1]{\\mathbf{#1}}0$$"
      ],
      "text/plain": [
       "0"
      ]
     },
     "metadata": {},
     "output_type": "display_data"
    },
    {
     "name": "stdout",
     "output_type": "stream",
     "text": [
      "\n",
      "----> α: 0  ... β: -1  ... j: 0  ... k: 0  ... \n"
     ]
    },
    {
     "data": {
      "text/html": [
       "<html><script type=\"math/tex; mode=display\">\\newcommand{\\Bold}[1]{\\mathbf{#1}}0</script></html>"
      ],
      "text/latex": [
       "$$\\newcommand{\\Bold}[1]{\\mathbf{#1}}0$$"
      ],
      "text/plain": [
       "0"
      ]
     },
     "metadata": {},
     "output_type": "display_data"
    },
    {
     "name": "stdout",
     "output_type": "stream",
     "text": [
      "----> α: 0  ... β: -1  ... j: 0  ... k: 1  ... \n"
     ]
    },
    {
     "data": {
      "text/html": [
       "<html><script type=\"math/tex; mode=display\">\\newcommand{\\Bold}[1]{\\mathbf{#1}}-\\frac{3}{5177717} \\, \\sqrt{173} {\\left(-264 i \\, \\sqrt{173} - 7084\\right)} e^{\\left(\\frac{1}{2} i \\, \\sqrt{173}\\right)}</script></html>"
      ],
      "text/latex": [
       "$$\\newcommand{\\Bold}[1]{\\mathbf{#1}}-\\frac{3}{5177717} \\, \\sqrt{173} {\\left(-264 i \\, \\sqrt{173} - 7084\\right)} e^{\\left(\\frac{1}{2} i \\, \\sqrt{173}\\right)}$$"
      ],
      "text/plain": [
       "-3/5177717*sqrt(173)*(-264*I*sqrt(173) - 7084)*e^(1/2*I*sqrt(173))"
      ]
     },
     "metadata": {},
     "output_type": "display_data"
    },
    {
     "name": "stdout",
     "output_type": "stream",
     "text": [
      "----> α: 0  ... β: -1  ... j: 1  ... k: 0  ... \n"
     ]
    },
    {
     "data": {
      "text/html": [
       "<html><script type=\"math/tex; mode=display\">\\newcommand{\\Bold}[1]{\\mathbf{#1}}-\\frac{3}{5177717} \\, \\sqrt{173} {\\left(-264 i \\, \\sqrt{173} - 7084\\right)} e^{\\left(\\frac{1}{2} i \\, \\sqrt{173}\\right)}</script></html>"
      ],
      "text/latex": [
       "$$\\newcommand{\\Bold}[1]{\\mathbf{#1}}-\\frac{3}{5177717} \\, \\sqrt{173} {\\left(-264 i \\, \\sqrt{173} - 7084\\right)} e^{\\left(\\frac{1}{2} i \\, \\sqrt{173}\\right)}$$"
      ],
      "text/plain": [
       "-3/5177717*sqrt(173)*(-264*I*sqrt(173) - 7084)*e^(1/2*I*sqrt(173))"
      ]
     },
     "metadata": {},
     "output_type": "display_data"
    },
    {
     "name": "stdout",
     "output_type": "stream",
     "text": [
      "----> α: 0  ... β: -1  ... j: 1  ... k: 1  ... \n"
     ]
    },
    {
     "data": {
      "text/html": [
       "<html><script type=\"math/tex; mode=display\">\\newcommand{\\Bold}[1]{\\mathbf{#1}}0</script></html>"
      ],
      "text/latex": [
       "$$\\newcommand{\\Bold}[1]{\\mathbf{#1}}0$$"
      ],
      "text/plain": [
       "0"
      ]
     },
     "metadata": {},
     "output_type": "display_data"
    },
    {
     "name": "stdout",
     "output_type": "stream",
     "text": [
      "\n",
      "----> α: 0  ... β: 1  ... j: 0  ... k: 0  ... \n"
     ]
    },
    {
     "data": {
      "text/html": [
       "<html><script type=\"math/tex; mode=display\">\\newcommand{\\Bold}[1]{\\mathbf{#1}}0</script></html>"
      ],
      "text/latex": [
       "$$\\newcommand{\\Bold}[1]{\\mathbf{#1}}0$$"
      ],
      "text/plain": [
       "0"
      ]
     },
     "metadata": {},
     "output_type": "display_data"
    },
    {
     "name": "stdout",
     "output_type": "stream",
     "text": [
      "----> α: 0  ... β: 1  ... j: 0  ... k: 1  ... \n"
     ]
    },
    {
     "data": {
      "text/html": [
       "<html><script type=\"math/tex; mode=display\">\\newcommand{\\Bold}[1]{\\mathbf{#1}}-\\frac{3}{5177717} \\, \\sqrt{173} {\\left(-396 i \\, \\sqrt{173} - 10626\\right)} e^{\\left(\\frac{1}{2} i \\, \\sqrt{173}\\right)}</script></html>"
      ],
      "text/latex": [
       "$$\\newcommand{\\Bold}[1]{\\mathbf{#1}}-\\frac{3}{5177717} \\, \\sqrt{173} {\\left(-396 i \\, \\sqrt{173} - 10626\\right)} e^{\\left(\\frac{1}{2} i \\, \\sqrt{173}\\right)}$$"
      ],
      "text/plain": [
       "-3/5177717*sqrt(173)*(-396*I*sqrt(173) - 10626)*e^(1/2*I*sqrt(173))"
      ]
     },
     "metadata": {},
     "output_type": "display_data"
    },
    {
     "name": "stdout",
     "output_type": "stream",
     "text": [
      "----> α: 0  ... β: 1  ... j: 1  ... k: 0  ... \n"
     ]
    },
    {
     "data": {
      "text/html": [
       "<html><script type=\"math/tex; mode=display\">\\newcommand{\\Bold}[1]{\\mathbf{#1}}-\\frac{3}{5177717} \\, \\sqrt{173} {\\left(-396 i \\, \\sqrt{173} - 10626\\right)} e^{\\left(\\frac{1}{2} i \\, \\sqrt{173}\\right)}</script></html>"
      ],
      "text/latex": [
       "$$\\newcommand{\\Bold}[1]{\\mathbf{#1}}-\\frac{3}{5177717} \\, \\sqrt{173} {\\left(-396 i \\, \\sqrt{173} - 10626\\right)} e^{\\left(\\frac{1}{2} i \\, \\sqrt{173}\\right)}$$"
      ],
      "text/plain": [
       "-3/5177717*sqrt(173)*(-396*I*sqrt(173) - 10626)*e^(1/2*I*sqrt(173))"
      ]
     },
     "metadata": {},
     "output_type": "display_data"
    },
    {
     "name": "stdout",
     "output_type": "stream",
     "text": [
      "----> α: 0  ... β: 1  ... j: 1  ... k: 1  ... \n"
     ]
    },
    {
     "data": {
      "text/html": [
       "<html><script type=\"math/tex; mode=display\">\\newcommand{\\Bold}[1]{\\mathbf{#1}}0</script></html>"
      ],
      "text/latex": [
       "$$\\newcommand{\\Bold}[1]{\\mathbf{#1}}0$$"
      ],
      "text/plain": [
       "0"
      ]
     },
     "metadata": {},
     "output_type": "display_data"
    },
    {
     "name": "stdout",
     "output_type": "stream",
     "text": [
      "\n",
      "----> α: 0  ... β: 0  ... j: 0  ... k: 0  ... \n"
     ]
    },
    {
     "data": {
      "text/html": [
       "<html><script type=\"math/tex; mode=display\">\\newcommand{\\Bold}[1]{\\mathbf{#1}}i</script></html>"
      ],
      "text/latex": [
       "$$\\newcommand{\\Bold}[1]{\\mathbf{#1}}i$$"
      ],
      "text/plain": [
       "I"
      ]
     },
     "metadata": {},
     "output_type": "display_data"
    },
    {
     "name": "stdout",
     "output_type": "stream",
     "text": [
      "----> α: 0  ... β: 0  ... j: 0  ... k: 1  ... \n"
     ]
    },
    {
     "data": {
      "text/html": [
       "<html><script type=\"math/tex; mode=display\">\\newcommand{\\Bold}[1]{\\mathbf{#1}}-\\frac{3}{5177717} \\, \\sqrt{173} {\\left(380 i \\, \\sqrt{173} - 9756\\right)} e^{\\left(\\frac{1}{2} i \\, \\sqrt{173}\\right)}</script></html>"
      ],
      "text/latex": [
       "$$\\newcommand{\\Bold}[1]{\\mathbf{#1}}-\\frac{3}{5177717} \\, \\sqrt{173} {\\left(380 i \\, \\sqrt{173} - 9756\\right)} e^{\\left(\\frac{1}{2} i \\, \\sqrt{173}\\right)}$$"
      ],
      "text/plain": [
       "-3/5177717*sqrt(173)*(380*I*sqrt(173) - 9756)*e^(1/2*I*sqrt(173))"
      ]
     },
     "metadata": {},
     "output_type": "display_data"
    },
    {
     "name": "stdout",
     "output_type": "stream",
     "text": [
      "----> α: 0  ... β: 0  ... j: 1  ... k: 0  ... \n"
     ]
    },
    {
     "data": {
      "text/html": [
       "<html><script type=\"math/tex; mode=display\">\\newcommand{\\Bold}[1]{\\mathbf{#1}}-\\frac{3}{5177717} \\, \\sqrt{173} {\\left(380 i \\, \\sqrt{173} - 9756\\right)} e^{\\left(\\frac{1}{2} i \\, \\sqrt{173}\\right)}</script></html>"
      ],
      "text/latex": [
       "$$\\newcommand{\\Bold}[1]{\\mathbf{#1}}-\\frac{3}{5177717} \\, \\sqrt{173} {\\left(380 i \\, \\sqrt{173} - 9756\\right)} e^{\\left(\\frac{1}{2} i \\, \\sqrt{173}\\right)}$$"
      ],
      "text/plain": [
       "-3/5177717*sqrt(173)*(380*I*sqrt(173) - 9756)*e^(1/2*I*sqrt(173))"
      ]
     },
     "metadata": {},
     "output_type": "display_data"
    },
    {
     "name": "stdout",
     "output_type": "stream",
     "text": [
      "----> α: 0  ... β: 0  ... j: 1  ... k: 1  ... \n"
     ]
    },
    {
     "data": {
      "text/html": [
       "<html><script type=\"math/tex; mode=display\">\\newcommand{\\Bold}[1]{\\mathbf{#1}}i</script></html>"
      ],
      "text/latex": [
       "$$\\newcommand{\\Bold}[1]{\\mathbf{#1}}i$$"
      ],
      "text/plain": [
       "I"
      ]
     },
     "metadata": {},
     "output_type": "display_data"
    },
    {
     "name": "stdout",
     "output_type": "stream",
     "text": [
      "\n"
     ]
    }
   ],
   "source": [
    "for (idx_α,α) in enumerate(α_range):\n",
    "    for (idx_β,β) in enumerate(β_range):\n",
    "        for j in range(N):\n",
    "            for k in range(N):\n",
    "                if j != k:\n",
    "                    r_jn_vec = vector(SR, [X_jk[j,k], Y_jk[j,k], Z_jk[j,k]])\n",
    "                    x = sqrt(X_jk[j,k]^2 + Y_jk[j,k]^2 + Z_jk[j,k]^2)\n",
    "\n",
    "                    term1 = I*kronecker_delta(j,k)*kronecker_delta(α,β)\n",
    "                    term2 = (1 - kronecker_delta(j,k))*(3/2)*(exp(i*x)/(x))\n",
    "                    term3 = P(I*x)*kronecker_delta(α,β)\n",
    "                    term4 = Q(I*x)*r_jn_vec[idx_α]*r_jn_vec[idx_β]/x^2\n",
    "                else:\n",
    "                    term1 = I*kronecker_delta(j,k)*kronecker_delta(α,β)\n",
    "                    term2 = 0\n",
    "                    term3 = 0\n",
    "                    term4 = 0\n",
    "                K = term1 + term2*( term3 + term4  )\n",
    "                print('----> α:', α, ' ... β:', β, ' ... j:', j, ' ... k:', k, ' ... ')\n",
    "                display( K )\n",
    "        print()"
   ]
  },
  {
   "cell_type": "code",
   "execution_count": null,
   "metadata": {},
   "outputs": [],
   "source": []
  }
 ],
 "metadata": {
  "kernelspec": {
   "display_name": "Julia 1.8.0",
   "language": "julia",
   "name": "julia-1.8"
  },
  "language_info": {
   "file_extension": ".jl",
   "mimetype": "application/julia",
   "name": "julia",
   "version": "1.8.0"
  }
 },
 "nbformat": 4,
 "nbformat_minor": 4
}
