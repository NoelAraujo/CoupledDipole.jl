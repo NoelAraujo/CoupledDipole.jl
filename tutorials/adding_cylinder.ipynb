{
 "cells": [
  {
   "cell_type": "markdown",
   "metadata": {},
   "source": [
    "# Cylinder data type\n",
    "\n",
    "Next, we discuss all small details to include a new atomic ditribution for `CoupledDipole.jl`\n",
    "\n",
    "---"
   ]
  },
  {
   "cell_type": "markdown",
   "metadata": {},
   "source": [
    "## Step 1: Create New Shape\n",
    "First, we need to define a struct that is a subtype of a `Dimension` data type. A cylinder is a 3D object, therefore, we define it as a sub type of `ThreeD` type.  \n",
    "In practice, add the following line into `structs.jl` file:\n",
    "\n",
    "`struct Cylinder <: ThreeD end`\n",
    "\n",
    "Then, export it on the `CoupledDipole.jl` file:  \n",
    "`export Cylinder`"
   ]
  },
  {
   "cell_type": "markdown",
   "metadata": {},
   "source": [
    "## Step 2: Discover how to generate the new shape\n",
    "Second step is to create the atoms distribution is space. We need to find properties that fit inside the `Atom` struct, that is, we need `r` (matrix of atom's positions), `N` (number of atoms), `sizes` (some numbers that represents the system size).\n",
    "\n",
    "The easiest starting point is to prototype the data distribution with some plots, later, we figure out how to put on the right format.\n",
    "\n",
    "My strategy is to create points inside a disc, then create another value for the heigh. \n",
    "\n",
    "The part of creating points in a disc needs some care, check [here](https://mathworld.wolfram.com/DiskPointPicking.html)."
   ]
  },
  {
   "cell_type": "code",
   "execution_count": null,
   "metadata": {},
   "outputs": [],
   "source": [
    "using Plots\n",
    "\n",
    "N = 10_000\n",
    "R = 2\n",
    "h = 10\n",
    "r,θ = R*rand(N), 2π*rand(N)\n",
    "\n",
    "x = sqrt.(r).*cos.(θ)\n",
    "y = sqrt.(r).*sin.(θ)\n",
    "z = -h.*rand(N) .+ h/2\n",
    "\n",
    "fig1 = scatter(x,y, zcolor=r, aspect_ratio=:equal, label=\"\", cbar=false)\n",
    "fig2 = scatter(x,y,z, zcolor=r, aspect_ratio=:equal, label=\"\", cbar=false)\n",
    "plot(fig1, fig2, layout=(1,2), size=(600,400)) |> display"
   ]
  },
  {
   "cell_type": "markdown",
   "metadata": {},
   "source": [
    "# Step 3: Define the Basic Constructor\n",
    "\n",
    "Now that we know how to create the spatial distribution, we need to create a function the create individual atoms and other constructors related functions.\n",
    "\n",
    "Create the file `src/atom_cylinder.jl`.  \n",
    "\n",
    "Import these new file inside the `CoupledDipoles.jl` file, that is, add the command:  \n",
    "`include(\"atom_cylinder.jl\")`\n",
    "\n",
    "Copy and Paste the file `atom_cube.jl` into `src/atom_cylinder.jl` changing the words `Cube` to `Cylinder`.\n",
    "\n",
    "We change the basic definitions ad hoc: \n",
    "\n",
    "- change the inputs to get `R` and `h`\n",
    "    ```\n",
    "        function Atom(\n",
    "        geometry::Cylinder,\n",
    "        N::Int64,\n",
    "        R::Union{Real,Integer},\n",
    "        h::Union{Real,Integer};\n",
    "        createFunction = ftn_AtomsOnCylinder::Function,\n",
    "    )\n",
    "    ```\n",
    "- change the density\n",
    "    ```\n",
    "        ρ = N/( h*π*R^2 )\n",
    "    ```\n",
    "\n",
    "- pass `R` and `h` to create atoms\n",
    "    ```\n",
    "        r = get_atoms(dimensions, N, rₘᵢₙ; createFunction, R, h)\n",
    "    ```\n",
    "- create a function to create a *single* atom\n",
    "    ```\n",
    "    function ftn_AtomsOnCylinder(; kwargs...)\n",
    "        R, h = kwargs[:R], kwargs[:h]\n",
    "        \n",
    "        r,θ = R*rand(), 2π*rand()\n",
    "\n",
    "        x = sqrt(r)*cos(θ)\n",
    "        y = sqrt(r)*sin(θ)\n",
    "        z = -h*rand() + h/2\n",
    "\n",
    "        return [x, y, z]\n",
    "    end\n",
    "    ```\n",
    "- create a `sizes` tuple and create the `Atom` struct\n",
    "```\n",
    "    sizes = (R=Float64(R), h=Float64(h))\n",
    "    return Atom(Cylinder(), r, N, sizes)\n",
    "```\n",
    "\n",
    "- create another constructor that has the atom's positions as input\n",
    "    ```\n",
    "    function Atom(geometry::Cylinder, r::Matrix, R::Union{Real,Integer}, h::Union{Real,Integer})\n",
    "        N = size(r, 2) # remember to use each collum as a atom position\n",
    "        return Atom(Cylinder(), r, N, (R=Float64(R), h=Float64(h)) )\n",
    "    end\n",
    "    ```"
   ]
  },
  {
   "cell_type": "markdown",
   "metadata": {},
   "source": [
    "# Step 4: Make Pretty IO\n",
    "Change the `src/IO.jl` file to have a pretty print message.  \n",
    "\n",
    "```\n",
    "function Base.show(io::IO, atoms::Atom{Cylinder})\n",
    "    geometry_text = \"Atoms on a $( highlight(\"Cylinder\", :yellow) )\"\n",
    "    N_text = \" with N=$(highlight(atoms.N, :yellow)) and \"\n",
    "    size_text = \"[R=$(highlight(make_short(atoms.sizes[:R]), :yellow)), h=$(highlight(make_short(atoms.sizes[:h]), :yellow))]\"\n",
    "    return printstyled(io, geometry_text * N_text * size_text)\n",
    "end\n",
    "```"
   ]
  },
  {
   "cell_type": "markdown",
   "metadata": {},
   "source": [
    "# Step 5: Test\n",
    "\n",
    "Now we have the most basic functions working and we can create atoms natively."
   ]
  },
  {
   "cell_type": "code",
   "execution_count": null,
   "metadata": {},
   "outputs": [],
   "source": [
    "using CoupledDipoles\n",
    "N = 5000\n",
    "R = 2\n",
    "h = 15\n",
    "cylindric_cloud = Atom(Cylinder(), N, R, h)"
   ]
  },
  {
   "cell_type": "code",
   "execution_count": null,
   "metadata": {},
   "outputs": [],
   "source": [
    "using Plots\n",
    "x = cylindric_cloud.r[1, :]\n",
    "y = cylindric_cloud.r[2, :]\n",
    "z = cylindric_cloud.r[3, :]\n",
    "r = sqrt.( x.^2 + y.^2 )\n",
    "\n",
    "fig1 = scatter(x,y, zcolor=r, aspect_ratio=:equal, label=\"\", cbar=false)\n",
    "fig2 = scatter(x,y,z, zcolor=r, aspect_ratio=:equal, label=\"\", cbar=false)\n",
    "plot(fig1, fig2, layout=(1,2), size=(600,400)) |> display"
   ]
  },
  {
   "cell_type": "markdown",
   "metadata": {},
   "source": [
    "# Step 6: Create Auxiliary Functions\n",
    "\n",
    "Since we can create atoms, now we have to deal with auxiliary functions to process them.\n",
    "\n",
    "## 6.1 Define the Volume \n",
    "- In file `formulas.jl`\n",
    "    ```\n",
    "    Volume_of(atoms::Atom{Cylinder}) = atoms.sizes[:h] * π * atoms.sizes[:R]^2\n",
    "    ```"
   ]
  },
  {
   "cell_type": "markdown",
   "metadata": {},
   "source": [
    "## 6.2 Create `cylinder_inputs` \n",
    "\n",
    "This function helps when we want to define N and $\\rho$ and don't want to compute the exact dimensions of the cylinder\n",
    "\n",
    "- In file `atoms.jl`: \n",
    "    ```\n",
    "    function cylinder_inputs(N::Integer, ρ::Real; kwargs...)\n",
    "        R =  get(kwargs, :R, NaN)\n",
    "        h =  get(kwargs, :h, NaN)\n",
    "\n",
    "        if (R < 0) && (h < 0)\n",
    "            @error \"Invalid inputs, R and h must be positives\"\n",
    "            R = 0\n",
    "            h = 0\n",
    "        elseif isnan(R) && isnan(h) # R and h not provided\n",
    "            # assume that R=h ⇢ (h*πR^2 = πR^3) and solve for R\n",
    "            R = cbrt(N / π * ρ)\n",
    "            h = R\n",
    "        elseif isnan(R) && (h ≠ -1.0) # R not provided\n",
    "            R = sqrt(N / (π * ρ * h))\n",
    "        elseif (R ≠ -1.0) && isnan(h) # h not provided\n",
    "            h = sqrt(N / (π * ρ * R^2))\n",
    "        end\n",
    "        return (N, R, h)\n",
    "    end\n",
    "    ```\n",
    "\n",
    "- In file `CoupledDipoles.jl`:  \n",
    "    ```\n",
    "    export cylinder_inputs\n",
    "    ```"
   ]
  },
  {
   "cell_type": "markdown",
   "metadata": {},
   "source": [
    "## 6.3 Define the Path Length \n",
    "\n",
    "We imagine a beam of light crossing the cloud, we need to specify how big is this path. I assume light in z-direction, because it is where the laser is (currently) pointing. Therefore, the path length is equal to the cylider's height.\n",
    "\n",
    "- In file `formulas.jl` (this code is valid only for homogeneous distribution)\n",
    "    ```\n",
    "    function geometric_integral(atoms::Atom{Cylinder})\n",
    "        @info \"using the cylinder height as light path\"\n",
    "        return atoms.sizes[:h]\n",
    "    end\n",
    "    ```\n",
    "\n",
    "- In file `IO.jl`\n",
    "    ```\n",
    "    Base.size(x::Atom{Cylinder}) = x.sizes[:h]\n",
    "    ```"
   ]
  },
  {
   "cell_type": "markdown",
   "metadata": {},
   "source": [
    "# Step 7: Finished\n",
    "\n",
    "Now you are free to change the word"
   ]
  },
  {
   "cell_type": "code",
   "execution_count": 2,
   "metadata": {},
   "outputs": [
    {
     "data": {
      "text/plain": [
       "\u001b[0mAtoms on a \u001b[33mCylinder\u001b[39m with N=\u001b[33m150\u001b[39m and [R=\u001b[33m3.99\u001b[39m, h=\u001b[33m15.0\u001b[39m]"
      ]
     },
     "metadata": {},
     "output_type": "display_data"
    }
   ],
   "source": [
    "using CoupledDipoles\n",
    "N = 150\n",
    "ρ = 0.2\n",
    "h = 15\n",
    "\n",
    "# R will be computed automatically\n",
    "cylindric_cloud = Atom(Cylinder(), cylinder_inputs(N,ρ; h=h)...)"
   ]
  },
  {
   "cell_type": "code",
   "execution_count": null,
   "metadata": {},
   "outputs": [],
   "source": []
  }
 ],
 "metadata": {
  "interpreter": {
   "hash": "e7370f93d1d0cde622a1f8e1c04877d8463912d04d973331ad4851f04de6915a"
  },
  "kernelspec": {
   "display_name": "Julia 1.7.0",
   "language": "julia",
   "name": "julia-1.7"
  },
  "language_info": {
   "file_extension": ".jl",
   "mimetype": "application/julia",
   "name": "julia",
   "version": "1.7.0"
  },
  "orig_nbformat": 4
 },
 "nbformat": 4,
 "nbformat_minor": 2
}
